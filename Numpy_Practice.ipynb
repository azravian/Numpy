{
 "cells": [
  {
   "cell_type": "markdown",
   "metadata": {},
   "source": [
    "# NumPy\n",
    "short for Numerical Python, is one of the most important foundational packages\n",
    "for numerical computing in Python. Most computational packages providing\n",
    "scientific functionality use NumPy’s array objects as the lingua franca for data\n",
    "exchange.\n",
    "Here are some of the things you’ll find in NumPy:\n",
    "- ndarray, an efficient multidimensional array providing fast array-oriented arithmetic\n",
    "operations and flexible broadcasting capabilities.\n",
    "- Mathematical functions for fast operations on entire arrays of data without having\n",
    "to write loops.\n",
    "- Tools for reading/writing array data to disk and working with memory-mapped\n",
    "files.\n",
    "- Linear algebra, random number generation, and Fourier transform capabilities.\n",
    "- A C API for connecting NumPy with libraries written in C, C++, or FORTRAN."
   ]
  },
  {
   "cell_type": "markdown",
   "metadata": {},
   "source": [
    "# NumPy Practice\n",
    "\n",
    "###### import numpy as np \n",
    "\n",
    "* Numpy is imported\n",
    "* aliased as np"
   ]
  },
  {
   "cell_type": "code",
   "execution_count": 2,
   "metadata": {},
   "outputs": [],
   "source": [
    "import numpy as np"
   ]
  },
  {
   "cell_type": "markdown",
   "metadata": {},
   "source": [
    "# 1.  Create a Numpy array\n",
    "\n",
    "NumPy arrays are homogenous: all elements should be of same datatypes.\n",
    "NumPy array can be created using following methods:\n",
    "\n",
    "1. from lists:\n",
    "```` python\n",
    "List = [[1,2,4,5], [6,7,5,7,8]]\n",
    "nArray = np.array(List)\n",
    "````"
   ]
  },
  {
   "cell_type": "code",
   "execution_count": 3,
   "metadata": {},
   "outputs": [
    {
     "data": {
      "text/plain": [
       "array([list([1, 2, 4, 5]), list([6, 7, 5, 7, 8])], dtype=object)"
      ]
     },
     "execution_count": 3,
     "metadata": {},
     "output_type": "execute_result"
    }
   ],
   "source": [
    "List = [[1,2,4,5], [6,7,5,7,8]]\n",
    "nArray = np.array(List)\n",
    "nArray"
   ]
  },
  {
   "cell_type": "code",
   "execution_count": 4,
   "metadata": {},
   "outputs": [
    {
     "name": "stdout",
     "output_type": "stream",
     "text": [
      "Help on built-in function array in module numpy:\n",
      "\n",
      "array(...)\n",
      "    array(object, dtype=None, copy=True, order='K', subok=False, ndmin=0)\n",
      "    \n",
      "    Create an array.\n",
      "    \n",
      "    Parameters\n",
      "    ----------\n",
      "    object : array_like\n",
      "        An array, any object exposing the array interface, an object whose\n",
      "        __array__ method returns an array, or any (nested) sequence.\n",
      "    dtype : data-type, optional\n",
      "        The desired data-type for the array.  If not given, then the type will\n",
      "        be determined as the minimum type required to hold the objects in the\n",
      "        sequence.\n",
      "    copy : bool, optional\n",
      "        If true (default), then the object is copied.  Otherwise, a copy will\n",
      "        only be made if __array__ returns a copy, if obj is a nested sequence,\n",
      "        or if a copy is needed to satisfy any of the other requirements\n",
      "        (`dtype`, `order`, etc.).\n",
      "    order : {'K', 'A', 'C', 'F'}, optional\n",
      "        Specify the memory layout of the array. If object is not an array, the\n",
      "        newly created array will be in C order (row major) unless 'F' is\n",
      "        specified, in which case it will be in Fortran order (column major).\n",
      "        If object is an array the following holds.\n",
      "    \n",
      "        ===== ========= ===================================================\n",
      "        order  no copy                     copy=True\n",
      "        ===== ========= ===================================================\n",
      "        'K'   unchanged F & C order preserved, otherwise most similar order\n",
      "        'A'   unchanged F order if input is F and not C, otherwise C order\n",
      "        'C'   C order   C order\n",
      "        'F'   F order   F order\n",
      "        ===== ========= ===================================================\n",
      "    \n",
      "        When ``copy=False`` and a copy is made for other reasons, the result is\n",
      "        the same as if ``copy=True``, with some exceptions for `A`, see the\n",
      "        Notes section. The default order is 'K'.\n",
      "    subok : bool, optional\n",
      "        If True, then sub-classes will be passed-through, otherwise\n",
      "        the returned array will be forced to be a base-class array (default).\n",
      "    ndmin : int, optional\n",
      "        Specifies the minimum number of dimensions that the resulting\n",
      "        array should have.  Ones will be pre-pended to the shape as\n",
      "        needed to meet this requirement.\n",
      "    \n",
      "    Returns\n",
      "    -------\n",
      "    out : ndarray\n",
      "        An array object satisfying the specified requirements.\n",
      "    \n",
      "    See Also\n",
      "    --------\n",
      "    empty_like : Return an empty array with shape and type of input.\n",
      "    ones_like : Return an array of ones with shape and type of input.\n",
      "    zeros_like : Return an array of zeros with shape and type of input.\n",
      "    full_like : Return a new array with shape of input filled with value.\n",
      "    empty : Return a new uninitialized array.\n",
      "    ones : Return a new array setting values to one.\n",
      "    zeros : Return a new array setting values to zero.\n",
      "    full : Return a new array of given shape filled with value.\n",
      "    \n",
      "    \n",
      "    Notes\n",
      "    -----\n",
      "    When order is 'A' and `object` is an array in neither 'C' nor 'F' order,\n",
      "    and a copy is forced by a change in dtype, then the order of the result is\n",
      "    not necessarily 'C' as expected. This is likely a bug.\n",
      "    \n",
      "    Examples\n",
      "    --------\n",
      "    >>> np.array([1, 2, 3])\n",
      "    array([1, 2, 3])\n",
      "    \n",
      "    Upcasting:\n",
      "    \n",
      "    >>> np.array([1, 2, 3.0])\n",
      "    array([ 1.,  2.,  3.])\n",
      "    \n",
      "    More than one dimension:\n",
      "    \n",
      "    >>> np.array([[1, 2], [3, 4]])\n",
      "    array([[1, 2],\n",
      "           [3, 4]])\n",
      "    \n",
      "    Minimum dimensions 2:\n",
      "    \n",
      "    >>> np.array([1, 2, 3], ndmin=2)\n",
      "    array([[1, 2, 3]])\n",
      "    \n",
      "    Type provided:\n",
      "    \n",
      "    >>> np.array([1, 2, 3], dtype=complex)\n",
      "    array([ 1.+0.j,  2.+0.j,  3.+0.j])\n",
      "    \n",
      "    Data-type consisting of more than one element:\n",
      "    \n",
      "    >>> x = np.array([(1,2),(3,4)],dtype=[('a','<i4'),('b','<i4')])\n",
      "    >>> x['a']\n",
      "    array([1, 3])\n",
      "    \n",
      "    Creating an array from sub-classes:\n",
      "    \n",
      "    >>> np.array(np.mat('1 2; 3 4'))\n",
      "    array([[1, 2],\n",
      "           [3, 4]])\n",
      "    \n",
      "    >>> np.array(np.mat('1 2; 3 4'), subok=True)\n",
      "    matrix([[1, 2],\n",
      "            [3, 4]])\n",
      "\n"
     ]
    }
   ],
   "source": [
    "help(np.array)"
   ]
  },
  {
   "cell_type": "markdown",
   "metadata": {},
   "source": [
    "# 2. Zeros and Ones\n",
    "\n",
    "\n",
    "``np.zeros`` creates an array of zeros of given dimension\n",
    "<br>\n",
    "``np.ones`` creates an array of one of given dimension.\n",
    "\n",
    "these fucntions takes a second parameter specifying the datatype of array"
   ]
  },
  {
   "cell_type": "code",
   "execution_count": 5,
   "metadata": {},
   "outputs": [
    {
     "data": {
      "text/plain": [
       "array([0., 0., 0., 0., 0., 0., 0., 0., 0., 0.])"
      ]
     },
     "execution_count": 5,
     "metadata": {},
     "output_type": "execute_result"
    }
   ],
   "source": [
    "ZeroArray = np.zeros(10)\n",
    "ZeroArray"
   ]
  },
  {
   "cell_type": "code",
   "execution_count": 6,
   "metadata": {},
   "outputs": [
    {
     "data": {
      "text/plain": [
       "array([1., 1., 1., 1., 1., 1., 1., 1., 1., 1.])"
      ]
     },
     "execution_count": 6,
     "metadata": {},
     "output_type": "execute_result"
    }
   ],
   "source": [
    "OneArray = np.ones(10)\n",
    "OneArray"
   ]
  },
  {
   "cell_type": "markdown",
   "metadata": {},
   "source": [
    "\n",
    "# 3. Details of functions for NumPy array creation\n",
    "\n",
    "|Function|Description|\n",
    "|:-------|:----------|\n",
    "|array| Convert input data (list, tuple, array, or other sequence type) to an ndarray either by inferring a dtypeor explicitly specifying a dtype; copies the input data by default\n",
    "|asarray| Convert input to ndarray, but do not copy if the input is already an ndarray\n",
    "|arange| Like the built-in range but returns an ndarray instead of a list\n",
    "|ones,ones_like|Produce an array of all 1s with the given shape and dtype; ones_like takes another array and produces a ones array of the same shape and dtype\n",
    "|zeros, zeros_like|Like ones and ones_like but producing arrays of 0s instead\n",
    "|empty, empty_like|Create new arrays by allocating new memory, but do not populate with any values like ones and zeros\n",
    "|full, full_like|Produce an array of the given shape and dtype with all values set to the indicated “fill value” full_like takes another array and produces a filled array of the same shape and dtype\n",
    "|eye|identity Create a square N × N identity matrix (1s on the diagonal and 0s elsewhere)\n",
    "|linspace|Return evenly spaced numbers over a specified interval."
   ]
  },
  {
   "cell_type": "code",
   "execution_count": 7,
   "metadata": {},
   "outputs": [
    {
     "data": {
      "text/plain": [
       "array([0., 0., 0., 0., 0., 0., 0., 0., 0., 0.])"
      ]
     },
     "execution_count": 7,
     "metadata": {},
     "output_type": "execute_result"
    }
   ],
   "source": [
    "#following line create a list of zeros with dtype of int16 \n",
    "ZeroArray1 = np.zeros(10)\n",
    "ZeroArray1"
   ]
  },
  {
   "cell_type": "code",
   "execution_count": 8,
   "metadata": {},
   "outputs": [
    {
     "data": {
      "text/plain": [
       "array([1., 1., 1., 1., 1., 1., 1., 1., 1., 1.])"
      ]
     },
     "execution_count": 8,
     "metadata": {},
     "output_type": "execute_result"
    }
   ],
   "source": [
    "#following line create a list of zeros with dtype of int8\n",
    "onesArray1 = np.ones(10)\n",
    "onesArray1"
   ]
  },
  {
   "cell_type": "code",
   "execution_count": 9,
   "metadata": {},
   "outputs": [
    {
     "data": {
      "text/plain": [
       "array([1, 2, 3, 4, 5, 4])"
      ]
     },
     "execution_count": 9,
     "metadata": {},
     "output_type": "execute_result"
    }
   ],
   "source": [
    "#following line create a list of zeros with dtype of int8\n",
    "onesArray1 = np.array([1,2,3,4,5,4])\n",
    "onesArray1"
   ]
  },
  {
   "cell_type": "code",
   "execution_count": 10,
   "metadata": {},
   "outputs": [
    {
     "data": {
      "text/plain": [
       "array([1.69119330e-306, 1.29061821e-306, 4.45061456e-308, 9.34604358e-307,\n",
       "       3.44897822e-307])"
      ]
     },
     "execution_count": 10,
     "metadata": {},
     "output_type": "execute_result"
    }
   ],
   "source": [
    "# creates an array or 5 elements with a garbage values.\n",
    "np.empty(5)"
   ]
  },
  {
   "cell_type": "code",
   "execution_count": 11,
   "metadata": {},
   "outputs": [
    {
     "data": {
      "text/plain": [
       "array([ 0,  1,  2,  3,  4,  5,  6,  7,  8,  9, 10, 11, 12, 13, 14])"
      ]
     },
     "execution_count": 11,
     "metadata": {},
     "output_type": "execute_result"
    }
   ],
   "source": [
    "# similar to range() in list, but returns an NumPy Array\n",
    "np.arange(15)"
   ]
  },
  {
   "cell_type": "code",
   "execution_count": 12,
   "metadata": {},
   "outputs": [
    {
     "data": {
      "text/plain": [
       "array([2.  , 2.25, 2.5 , 2.75, 3.  ])"
      ]
     },
     "execution_count": 12,
     "metadata": {},
     "output_type": "execute_result"
    }
   ],
   "source": [
    "#Return evenly spaced numbers over a specified interval.\n",
    "# linspace(num1, num2, num=n)\n",
    "# it will generate n numbers, equally spaced between  num1 and num2 \n",
    "\n",
    "np.linspace(2.0, 3.0, num=5)"
   ]
  },
  {
   "cell_type": "code",
   "execution_count": 13,
   "metadata": {},
   "outputs": [],
   "source": [
    "np.linspace?"
   ]
  },
  {
   "cell_type": "markdown",
   "metadata": {},
   "source": [
    "# 4. Data Type of NumPy Array\n",
    "\n",
    "the datatype can be assigned using datatype parameter. By default the datatype is float (64-bit float)<br>\n",
    "other data types are\n",
    "    \n",
    "##### Numpy Data Type:\n",
    "\n",
    "|Data Type|Type Code|Description|\n",
    "|:--------|:--------|:----------|\n",
    "|int8, uint8|i1, u1|Signed and unsigned 8-bit (1 byte) integer types|\n",
    "|int16, uint16| i2, u2| Signed and unsigned 16-bit integer types|\n",
    "|int32, uint32| i4, u4| Signed and unsigned 32-bit integer types|\n",
    "|int64, uint64| i8, u8| Signed and unsigned 64-bit integer types|\n",
    "|float16| f2| Half-precision floating point|\n",
    "|float32| f4 or f| Standard single-precision floating point; compatible with C float|\n",
    "|float64| f8 or d| Standard double-precision floating point; compatible with C double and Python float object|\n",
    "|float128| f16 or g| Extended-precision floating point|\n",
    "|complex64, complex128, complex256 |c8, c16, c32 |Complex numbers represented by two 32, 64, or 128 floats, respectively|\n",
    "|bool| ?|Boolean type storing True and False values|\n",
    "|object| O| Python object type; a value can be any Python object|\n",
    "|string_ |S| |Fixed-length ASCII string type (1 byte per character); for example, to create astring dtype with length 10, use 'S10'|\n",
    "|unicode_| U| Fixed-length Unicode type (number of bytes platform specific); same specification semantics as string_ (e.g., 'U10')|\n",
    "    \n",
    "    \n"
   ]
  },
  {
   "cell_type": "code",
   "execution_count": 14,
   "metadata": {},
   "outputs": [
    {
     "name": "stdout",
     "output_type": "stream",
     "text": [
      "data type of single element is: <class 'numpy.int8'>\n"
     ]
    }
   ],
   "source": [
    "unit16Array = np.ones(10,dtype= np.int8)\n",
    "print(f\"data type of single element is: {type(unit16Array[1])}\")"
   ]
  },
  {
   "cell_type": "code",
   "execution_count": 15,
   "metadata": {},
   "outputs": [
    {
     "name": "stdout",
     "output_type": "stream",
     "text": [
      "data type of single element is: <class 'numpy.int8'>\n"
     ]
    }
   ],
   "source": [
    "float16Array = np.ones(10,dtype= np.float16)\n",
    "print(f\"data type of single element is: {type(unit16Array[1])}\")"
   ]
  },
  {
   "cell_type": "code",
   "execution_count": 16,
   "metadata": {},
   "outputs": [
    {
     "name": "stdout",
     "output_type": "stream",
     "text": [
      "[ 4  6  8 10]\n"
     ]
    }
   ],
   "source": [
    "ArrangeArray = np.arange(4, 11, 2, dtype = np.int64)\n",
    "print(ArrangeArray)"
   ]
  },
  {
   "cell_type": "code",
   "execution_count": 17,
   "metadata": {},
   "outputs": [
    {
     "data": {
      "text/plain": [
       "array([ 1,  2, 25, 15], dtype=uint8)"
      ]
     },
     "execution_count": 17,
     "metadata": {},
     "output_type": "execute_result"
    }
   ],
   "source": [
    "fromList = np.array([1,2,25,15], dtype = np.uint8)\n",
    "fromList"
   ]
  },
  {
   "cell_type": "code",
   "execution_count": 18,
   "metadata": {},
   "outputs": [],
   "source": [
    "np.linspace?"
   ]
  },
  {
   "cell_type": "markdown",
   "metadata": {},
   "source": [
    "# 5. Type Casting of NumPy Array \n",
    "\n",
    "The dtype of NumPy Array can be changes by using np.astype() method. For example"
   ]
  },
  {
   "cell_type": "code",
   "execution_count": 19,
   "metadata": {},
   "outputs": [
    {
     "name": "stdout",
     "output_type": "stream",
     "text": [
      "Array element data type is <class 'numpy.int16'>\n",
      "Array element data type is <class 'numpy.float16'>\n"
     ]
    }
   ],
   "source": [
    "ArraytoCast = np.arange(5,dtype= np.int16)\n",
    "print(f\"Array element data type is {type(ArraytoCast[0])}\")\n",
    "\n",
    "CastedArray = ArraytoCast.astype(np.float16)\n",
    "print(f\"Array element data type is {type(CastedArray[0])}\")\n"
   ]
  },
  {
   "cell_type": "markdown",
   "metadata": {},
   "source": [
    "# 6. Numpy Random Module\n",
    "\n",
    "Numpy Random module is used to generate a random numbers in NumPy. For Now we will focus on four methods\n",
    "\n",
    "|Method|Description|\n",
    "|:-----|:----------|\n",
    "|rand(d0, d1,...)| uniform distribution of random values of a given shape.|\n",
    "|randn(d0, d1,...)| return normally distributed random values of given shape |\n",
    "|randf(d0, d1,...)| return random float numbers in half-open interval 0-1|\n",
    "|randint(low, high=None, size=None, dtype='l')| return random int numbers between low and high with specified size (a tuple of m ,n ,k)|\n"
   ]
  },
  {
   "cell_type": "code",
   "execution_count": 20,
   "metadata": {},
   "outputs": [],
   "source": [
    "np.random.randint?"
   ]
  },
  {
   "cell_type": "code",
   "execution_count": 21,
   "metadata": {},
   "outputs": [
    {
     "data": {
      "text/plain": [
       "array([0.01568365, 0.6994918 , 0.54188819, 0.02268275, 0.78898975])"
      ]
     },
     "execution_count": 21,
     "metadata": {},
     "output_type": "execute_result"
    }
   ],
   "source": [
    "np.random.rand(5)"
   ]
  },
  {
   "cell_type": "code",
   "execution_count": 22,
   "metadata": {},
   "outputs": [
    {
     "data": {
      "text/plain": [
       "array([-0.18076364, -0.33101611, -0.37350659, -0.02851475,  2.09667736])"
      ]
     },
     "execution_count": 22,
     "metadata": {},
     "output_type": "execute_result"
    }
   ],
   "source": [
    "np.random.randn(5)"
   ]
  },
  {
   "cell_type": "code",
   "execution_count": 23,
   "metadata": {},
   "outputs": [
    {
     "data": {
      "text/plain": [
       "array([0.65248253, 0.03050736, 0.38235179, 0.80040555, 0.13998814])"
      ]
     },
     "execution_count": 23,
     "metadata": {},
     "output_type": "execute_result"
    }
   ],
   "source": [
    "np.random.ranf(5)"
   ]
  },
  {
   "cell_type": "code",
   "execution_count": 24,
   "metadata": {},
   "outputs": [
    {
     "data": {
      "text/plain": [
       "array([[2, 3, 2, 4, 3],\n",
       "       [4, 4, 3, 3, 3]])"
      ]
     },
     "execution_count": 24,
     "metadata": {},
     "output_type": "execute_result"
    }
   ],
   "source": [
    "np.random.randint(2,5,(2,5))"
   ]
  },
  {
   "cell_type": "markdown",
   "metadata": {},
   "source": [
    "# 7. Dimension of a NumPy Array\n",
    "\n",
    "Dimension, sometimes also called axis, of NumPy Array can be describes the number of verctors (array) spaces in a NumPy Array. (in simple words number of lists in Numpy Array is the dimension of array)\n",
    "for example:\n",
    " ```` python\n",
    "\n",
    "A_2D_Array = np.array([[1,2,3],[4,5,6]]) \n",
    "````\n",
    "is a two dimenstion of array\n",
    "\n",
    "dimenstion of an array can be obtained by using .ndim attribute\n",
    "\n",
    "# 8. Shape of a NumPy Array\n",
    "\n",
    "Shape of array is a tuple that contains number of elements in each dimension or axis.\n",
    "for example a shape of (2,3,4) specifies that there are 2 elements in dimension/axis 1, 3 elements in dimension/axis 2 and 4 elements in dimension/axis 3.\n",
    "\n",
    "A shape of an array can be get by using .shape attribute.\n"
   ]
  },
  {
   "cell_type": "code",
   "execution_count": 25,
   "metadata": {},
   "outputs": [
    {
     "data": {
      "text/plain": [
       "array([[1, 2, 3],\n",
       "       [4, 5, 6]])"
      ]
     },
     "execution_count": 25,
     "metadata": {},
     "output_type": "execute_result"
    }
   ],
   "source": [
    "A_2D_Array = np.array([[1,2,3],[4,5,6]])\n",
    "A_2D_Array"
   ]
  },
  {
   "cell_type": "code",
   "execution_count": 26,
   "metadata": {},
   "outputs": [
    {
     "data": {
      "text/plain": [
       "2"
      ]
     },
     "execution_count": 26,
     "metadata": {},
     "output_type": "execute_result"
    }
   ],
   "source": [
    "A_2D_Array.ndim"
   ]
  },
  {
   "cell_type": "code",
   "execution_count": 27,
   "metadata": {},
   "outputs": [
    {
     "data": {
      "text/plain": [
       "(2, 3)"
      ]
     },
     "execution_count": 27,
     "metadata": {},
     "output_type": "execute_result"
    }
   ],
   "source": [
    "A_2D_Array.shape"
   ]
  },
  {
   "cell_type": "markdown",
   "metadata": {},
   "source": [
    "### Initialization with a specific dimension and shape.\n",
    "\n",
    "A np array can be initialized using a specific dimesnion and shape."
   ]
  },
  {
   "cell_type": "markdown",
   "metadata": {},
   "source": [
    "##### Using zeros \n",
    "\n",
    "\n",
    "```` python\n",
    "A3DArrayZeros = np.zeros(2, 3, 5) \n",
    "````"
   ]
  },
  {
   "cell_type": "code",
   "execution_count": 28,
   "metadata": {},
   "outputs": [],
   "source": [
    "np.zeros?"
   ]
  },
  {
   "cell_type": "code",
   "execution_count": 29,
   "metadata": {},
   "outputs": [
    {
     "data": {
      "text/plain": [
       "array([[[0., 0., 0., 0., 0.],\n",
       "        [0., 0., 0., 0., 0.],\n",
       "        [0., 0., 0., 0., 0.]],\n",
       "\n",
       "       [[0., 0., 0., 0., 0.],\n",
       "        [0., 0., 0., 0., 0.],\n",
       "        [0., 0., 0., 0., 0.]]])"
      ]
     },
     "execution_count": 29,
     "metadata": {},
     "output_type": "execute_result"
    }
   ],
   "source": [
    "\n",
    "A3DArrayZeros = np.zeros((2, 3, 5))\n",
    "A3DArrayZeros"
   ]
  },
  {
   "cell_type": "code",
   "execution_count": 30,
   "metadata": {},
   "outputs": [
    {
     "data": {
      "text/plain": [
       "3"
      ]
     },
     "execution_count": 30,
     "metadata": {},
     "output_type": "execute_result"
    }
   ],
   "source": [
    "A3DArrayZeros.ndim"
   ]
  },
  {
   "cell_type": "code",
   "execution_count": 31,
   "metadata": {},
   "outputs": [
    {
     "data": {
      "text/plain": [
       "(2, 3, 5)"
      ]
     },
     "execution_count": 31,
     "metadata": {},
     "output_type": "execute_result"
    }
   ],
   "source": [
    "A3DArrayZeros.shape"
   ]
  },
  {
   "cell_type": "markdown",
   "metadata": {},
   "source": [
    "##### using ones\n",
    "\n",
    "```` python\n",
    "A3DArrayOnes = np.ones((2,3,4), dtype = np.int8)\n",
    "````"
   ]
  },
  {
   "cell_type": "code",
   "execution_count": 32,
   "metadata": {},
   "outputs": [],
   "source": [
    "np.random.rand?"
   ]
  },
  {
   "cell_type": "code",
   "execution_count": 33,
   "metadata": {},
   "outputs": [
    {
     "data": {
      "text/plain": [
       "array([[[1, 1, 1, 1],\n",
       "        [1, 1, 1, 1],\n",
       "        [1, 1, 1, 1]],\n",
       "\n",
       "       [[1, 1, 1, 1],\n",
       "        [1, 1, 1, 1],\n",
       "        [1, 1, 1, 1]]], dtype=int8)"
      ]
     },
     "execution_count": 33,
     "metadata": {},
     "output_type": "execute_result"
    }
   ],
   "source": [
    "A3DArrayOnes = np.ones((2,3,4), dtype = np.int8)\n",
    "A3DArrayOnes"
   ]
  },
  {
   "cell_type": "markdown",
   "metadata": {},
   "source": [
    "##### using random.rand\n",
    "##### suing random.randn\n",
    "##### suing random.ranf\n",
    "\n",
    "```` python\n",
    "np.random.rand(d0, d1, ..., dn)\n",
    "np.random.randn(d0, d1, ..., dn)\n",
    "np.random.ranf(d0, d1, ..., dn)\n",
    "````\n",
    "\n",
    "The random functions rand function, however the dimension and shape is given as separate parameters rather than a in a single parameter in term of tuple."
   ]
  },
  {
   "cell_type": "code",
   "execution_count": 34,
   "metadata": {},
   "outputs": [
    {
     "data": {
      "text/plain": [
       "array([[[0.3476837 , 0.41629447],\n",
       "        [0.04247628, 0.48230548]],\n",
       "\n",
       "       [[0.6095994 , 0.9828076 ],\n",
       "        [0.02399692, 0.04582733]]])"
      ]
     },
     "execution_count": 34,
     "metadata": {},
     "output_type": "execute_result"
    }
   ],
   "source": [
    "A3DArrayRand= np.random.rand(2,2,2)\n",
    "A3DArrayRand"
   ]
  },
  {
   "cell_type": "code",
   "execution_count": 35,
   "metadata": {},
   "outputs": [
    {
     "data": {
      "text/plain": [
       "array([[[0.98836898, 0.65839829],\n",
       "        [0.25287106, 0.50607527]],\n",
       "\n",
       "       [[0.88647734, 0.7757618 ],\n",
       "        [0.58108939, 0.05878822]]])"
      ]
     },
     "execution_count": 35,
     "metadata": {},
     "output_type": "execute_result"
    }
   ],
   "source": [
    "A3DArrayRandn= np.random.rand(2,2,2)\n",
    "A3DArrayRandn"
   ]
  },
  {
   "cell_type": "code",
   "execution_count": 36,
   "metadata": {},
   "outputs": [
    {
     "data": {
      "text/plain": [
       "array([[[0.10775685, 0.26642975],\n",
       "        [0.33460425, 0.46289714]],\n",
       "\n",
       "       [[0.67251588, 0.2094188 ],\n",
       "        [0.80572249, 0.27460469]]])"
      ]
     },
     "execution_count": 36,
     "metadata": {},
     "output_type": "execute_result"
    }
   ],
   "source": [
    "A3DArrayRanf= np.random.rand(2,2,2)\n",
    "A3DArrayRanf"
   ]
  },
  {
   "cell_type": "markdown",
   "metadata": {},
   "source": [
    "##### using random.randint\n",
    "\n",
    "```` python\n",
    "numpy.random.randint(low, high=None, size=None, dtype='l')\t\n",
    "````\n",
    "\n",
    "the ranint function takes upper and lower limits, besides that size takes a tuple which defines the dimension and shape of resulting array.\n"
   ]
  },
  {
   "cell_type": "code",
   "execution_count": 37,
   "metadata": {
    "scrolled": true
   },
   "outputs": [
    {
     "data": {
      "text/plain": [
       "array([[[8, 6, 9],\n",
       "        [9, 9, 6]],\n",
       "\n",
       "       [[8, 6, 9],\n",
       "        [8, 5, 9]]])"
      ]
     },
     "execution_count": 37,
     "metadata": {},
     "output_type": "execute_result"
    }
   ],
   "source": [
    "A3DArrayRanInt = np.random.randint(5,10,(2,2,3))\n",
    "A3DArrayRanInt"
   ]
  },
  {
   "cell_type": "markdown",
   "metadata": {},
   "source": [
    "In order to better understand the dimension and shapes, we can "
   ]
  },
  {
   "cell_type": "markdown",
   "metadata": {},
   "source": [
    "# 9. Idexing\n",
    "\n",
    "index is similar to list in pyhon. Index can be positive or negative. A value can be accessed and changed using indices."
   ]
  },
  {
   "cell_type": "code",
   "execution_count": 38,
   "metadata": {},
   "outputs": [
    {
     "data": {
      "text/plain": [
       "4"
      ]
     },
     "execution_count": 38,
     "metadata": {},
     "output_type": "execute_result"
    }
   ],
   "source": [
    "Array1DIndex = np.arange(5)\n",
    "Array1DIndex[4]"
   ]
  },
  {
   "cell_type": "code",
   "execution_count": 39,
   "metadata": {},
   "outputs": [
    {
     "data": {
      "text/plain": [
       "3"
      ]
     },
     "execution_count": 39,
     "metadata": {},
     "output_type": "execute_result"
    }
   ],
   "source": [
    "Array1DIndex = np.arange(5)\n",
    "Array1DIndex[-2]"
   ]
  },
  {
   "cell_type": "markdown",
   "metadata": {},
   "source": [
    "### Indexing of Two Dimensional array\n",
    "\n",
    "In order to obtain a value in 2D array, one needs to give index for each dimension. For our ease we can call element distributed in rows and column in these dimensions. rows goes vertical and column are vertical. in mathematical form it can be said that an element in  i x j matrix a (NumPy Array are just matrices) can be represented as $a_{i+1,j+1}$ and need [row_index][column_index] in order to access single element in python. In order to have a rough visual representation of 2D array see the table below   \n",
    "\n",
    "|ixj matrix|        |||||\n",
    "|:--------:|:------:|:------:|:------:|:------:|:------:|\n",
    "|Column    |        |Column1 |Column2 |Column3 |Column4 |\n",
    "|Index (j) |        |0       |1       |2       |3       | \n",
    "|row       |index(i)|        |        |        |        |\n",
    "|row1      |0       |0       |1       |2       |3       |\n",
    "|row2      |1       |4       |5       |6       |7       |\n",
    "|row3      |2       |8       |9       |10      |11      |\n",
    "|row4      |3       |12      |13      |14      |15      |\n",
    "|row5      |4       |16      |17      |18      |19      |\n",
    "\n",
    "\n",
    "in above 2D array (or matrix) and element can be accessed by using row and column (both dimensions) indices. for example value at indices [3][2] (or $a_{43}$) is 14"
   ]
  },
  {
   "cell_type": "code",
   "execution_count": 40,
   "metadata": {},
   "outputs": [
    {
     "data": {
      "text/plain": [
       "array([[ 0,  1,  2,  3],\n",
       "       [ 4,  5,  6,  7],\n",
       "       [ 8,  9, 10, 11],\n",
       "       [12, 13, 14, 15],\n",
       "       [16, 17, 18, 19]])"
      ]
     },
     "execution_count": 40,
     "metadata": {},
     "output_type": "execute_result"
    }
   ],
   "source": [
    "Array2DIndex=np.arange(20).reshape(5,4)\n",
    "Array2DIndex"
   ]
  },
  {
   "cell_type": "code",
   "execution_count": 41,
   "metadata": {},
   "outputs": [
    {
     "data": {
      "text/plain": [
       "14"
      ]
     },
     "execution_count": 41,
     "metadata": {},
     "output_type": "execute_result"
    }
   ],
   "source": [
    "Array2DIndex[3][2]"
   ]
  },
  {
   "cell_type": "markdown",
   "metadata": {},
   "source": [
    "if column index is not given result will be a whole row in single dimension."
   ]
  },
  {
   "cell_type": "code",
   "execution_count": 42,
   "metadata": {},
   "outputs": [
    {
     "data": {
      "text/plain": [
       "array([12, 13, 14, 15])"
      ]
     },
     "execution_count": 42,
     "metadata": {},
     "output_type": "execute_result"
    }
   ],
   "source": [
    "Array2DIndex[3]"
   ]
  },
  {
   "cell_type": "markdown",
   "metadata": {},
   "source": [
    "## Indexing 3D Array\n",
    "\n",
    "Similar to 2D arrays, 3D arrays needs 3 indices in orders in get a single value, if a one indix is missing, matrix is return on given axis will be returned."
   ]
  },
  {
   "cell_type": "code",
   "execution_count": 43,
   "metadata": {},
   "outputs": [
    {
     "data": {
      "text/plain": [
       "19"
      ]
     },
     "execution_count": 43,
     "metadata": {},
     "output_type": "execute_result"
    }
   ],
   "source": [
    "Array3DArray = np.arange(24).reshape(2,3,4)\n",
    "Array3DArray[1][1][3]  # should return 19"
   ]
  },
  {
   "cell_type": "markdown",
   "metadata": {},
   "source": [
    "## Indexing n-Dimensional Array\n",
    "\n",
    "An n-dimensional array take n number of indices to get a number"
   ]
  },
  {
   "cell_type": "markdown",
   "metadata": {},
   "source": [
    "# 10. Slicing\n",
    "\n",
    "Slicing works similar to lists in python and can be done using [start:end:step], where end index is not inclusive\n",
    "consider for an array named\n",
    "\n",
    "1. arr[start:end] -> an array between start and end-1 indices\n",
    "2. arr[:end] -> an array between 0 index and end-1 index\n",
    "3. arr[start:] -> an array from start index to the last element(inclusive)\n",
    "4. arry[start:end:step] -> array from start to end-1 index with a step of 2.\n",
    "\n",
    "for example"
   ]
  },
  {
   "cell_type": "code",
   "execution_count": 44,
   "metadata": {},
   "outputs": [
    {
     "data": {
      "text/plain": [
       "array([ 0,  1,  2,  3,  4,  5,  6,  7,  8,  9, 10, 11, 12, 13, 14, 15, 16,\n",
       "       17, 18, 19, 20, 21, 22, 23])"
      ]
     },
     "execution_count": 44,
     "metadata": {},
     "output_type": "execute_result"
    }
   ],
   "source": [
    "SlicingArray = np.arange(24)\n",
    "SlicingArray"
   ]
  },
  {
   "cell_type": "code",
   "execution_count": 45,
   "metadata": {},
   "outputs": [
    {
     "data": {
      "text/plain": [
       "array([0, 1, 2, 3, 4])"
      ]
     },
     "execution_count": 45,
     "metadata": {},
     "output_type": "execute_result"
    }
   ],
   "source": [
    "SlicingArray[0:5]"
   ]
  },
  {
   "cell_type": "code",
   "execution_count": 46,
   "metadata": {},
   "outputs": [
    {
     "data": {
      "text/plain": [
       "array([20, 21, 22, 23])"
      ]
     },
     "execution_count": 46,
     "metadata": {},
     "output_type": "execute_result"
    }
   ],
   "source": [
    "SlicingArray[20:]"
   ]
  },
  {
   "cell_type": "code",
   "execution_count": 47,
   "metadata": {},
   "outputs": [
    {
     "data": {
      "text/plain": [
       "array([5, 6, 7, 8, 9])"
      ]
     },
     "execution_count": 47,
     "metadata": {},
     "output_type": "execute_result"
    }
   ],
   "source": [
    "SlicingArray[5:10]"
   ]
  },
  {
   "cell_type": "code",
   "execution_count": 48,
   "metadata": {},
   "outputs": [
    {
     "data": {
      "text/plain": [
       "array([2, 4, 6, 8])"
      ]
     },
     "execution_count": 48,
     "metadata": {},
     "output_type": "execute_result"
    }
   ],
   "source": [
    "SlicingArray[2:10:2]"
   ]
  },
  {
   "cell_type": "code",
   "execution_count": 49,
   "metadata": {},
   "outputs": [
    {
     "data": {
      "text/plain": [
       "array([19, 20, 21, 22])"
      ]
     },
     "execution_count": 49,
     "metadata": {},
     "output_type": "execute_result"
    }
   ],
   "source": [
    "SlicingArray[-5:-1]"
   ]
  },
  {
   "cell_type": "markdown",
   "metadata": {},
   "source": [
    "## Slicing of 2-Dimensional Array\n",
    "\n",
    "2-dimensional array can be sliced by giving slicing indices for each dimension.\n",
    "for a two dimensional array the slicing should follow this procedure\n",
    "suppose 2 dimensions are d1(row), d2(column) the syntax for slicing would be:\n",
    "```` python\n",
    "arr[start_d1:end_d1:step_d1, start_d2:end_d2:step_d2]\n",
    "````\n",
    "\n",
    "Consider following 2D Arrray\n",
    "\n",
    "\n",
    "||        |||||\n",
    "|:--------:|:------:|:------:|:------:|:------:|:------:|\n",
    "|Column    |        |Column1 |Column2 |Column3 |Column4 |\n",
    "|Index (j) |        |0       |1       |2       |3       | \n",
    "|row       |index(i)|        |        |        |        |\n",
    "|row1      |0       |0       |1       |2       |3       |\n",
    "|row2      |1       |4       |5       |6       |7       |\n",
    "|row3      |2       |8       |9       |10      |11      |\n",
    "|row4      |3       |12      |13      |14      |15      |\n",
    "|row5      |4       |16      |17      |18      |19      |"
   ]
  },
  {
   "cell_type": "code",
   "execution_count": 50,
   "metadata": {},
   "outputs": [
    {
     "data": {
      "text/plain": [
       "array([[ 0,  1,  2,  3],\n",
       "       [ 4,  5,  6,  7],\n",
       "       [ 8,  9, 10, 11],\n",
       "       [12, 13, 14, 15],\n",
       "       [16, 17, 18, 19]])"
      ]
     },
     "execution_count": 50,
     "metadata": {},
     "output_type": "execute_result"
    }
   ],
   "source": [
    "Slicing2DArray = np.arange(20).reshape(5,4)\n",
    "Slicing2DArray"
   ]
  },
  {
   "cell_type": "markdown",
   "metadata": {},
   "source": [
    "```` python\n",
    "Slicing2DArray[1:3,2:4]\n",
    "````\n",
    "\n",
    "would give the element between row1 to row2 (row index 3 in exclusive) and column2 to column3. "
   ]
  },
  {
   "cell_type": "code",
   "execution_count": 51,
   "metadata": {},
   "outputs": [
    {
     "data": {
      "text/plain": [
       "array([[ 6,  7],\n",
       "       [10, 11]])"
      ]
     },
     "execution_count": 51,
     "metadata": {},
     "output_type": "execute_result"
    }
   ],
   "source": [
    "Slicing2DArray[1:3,2:4]"
   ]
  },
  {
   "cell_type": "markdown",
   "metadata": {},
   "source": [
    "```` python\n",
    "Slicing2DArray[:,2:4]\n",
    "````\n",
    "\n",
    "would all elements of all rows between column3 and column4"
   ]
  },
  {
   "cell_type": "code",
   "execution_count": 52,
   "metadata": {},
   "outputs": [
    {
     "data": {
      "text/plain": [
       "array([[ 2,  3],\n",
       "       [ 6,  7],\n",
       "       [10, 11],\n",
       "       [14, 15],\n",
       "       [18, 19]])"
      ]
     },
     "execution_count": 52,
     "metadata": {},
     "output_type": "execute_result"
    }
   ],
   "source": [
    "Slicing2DArray[:,2:4]"
   ]
  },
  {
   "cell_type": "markdown",
   "metadata": {},
   "source": [
    "```` python\n",
    "Slicing2DArray[2:4,:]\n",
    "````\n",
    "\n",
    "would all elements of all rows between row3 and row4"
   ]
  },
  {
   "cell_type": "code",
   "execution_count": 53,
   "metadata": {},
   "outputs": [
    {
     "data": {
      "text/plain": [
       "array([[ 8,  9, 10, 11],\n",
       "       [12, 13, 14, 15]])"
      ]
     },
     "execution_count": 53,
     "metadata": {},
     "output_type": "execute_result"
    }
   ],
   "source": [
    "Slicing2DArray[2:4,:]"
   ]
  },
  {
   "cell_type": "markdown",
   "metadata": {},
   "source": [
    "### Slicing 3-D Array\n",
    "\n",
    "Similary for 3D array slicing index for each dimension of axis have to be given and, if a dimensionor axis don't need to be sliced : is kept for that dimension. The syntax for slicing is\n",
    "\n",
    "\n",
    "```` python\n",
    "arr[start_d1:end_d1:step_d1, start_d2:end_d2:step_d2,start_d3:end_d3:step_d3]\n",
    "````\n",
    "\n",
    "for example:"
   ]
  },
  {
   "cell_type": "code",
   "execution_count": 54,
   "metadata": {},
   "outputs": [
    {
     "data": {
      "text/plain": [
       "array([[[ 0,  1,  2,  3,  4],\n",
       "        [ 5,  6,  7,  8,  9],\n",
       "        [10, 11, 12, 13, 14],\n",
       "        [15, 16, 17, 18, 19],\n",
       "        [20, 21, 22, 23, 24]],\n",
       "\n",
       "       [[25, 26, 27, 28, 29],\n",
       "        [30, 31, 32, 33, 34],\n",
       "        [35, 36, 37, 38, 39],\n",
       "        [40, 41, 42, 43, 44],\n",
       "        [45, 46, 47, 48, 49]],\n",
       "\n",
       "       [[50, 51, 52, 53, 54],\n",
       "        [55, 56, 57, 58, 59],\n",
       "        [60, 61, 62, 63, 64],\n",
       "        [65, 66, 67, 68, 69],\n",
       "        [70, 71, 72, 73, 74]]])"
      ]
     },
     "execution_count": 54,
     "metadata": {},
     "output_type": "execute_result"
    }
   ],
   "source": [
    "Slicing3DArray = np.arange(75).reshape(3,5,5)\n",
    "Slicing3DArray"
   ]
  },
  {
   "cell_type": "code",
   "execution_count": 55,
   "metadata": {},
   "outputs": [
    {
     "data": {
      "text/plain": [
       "array([[[32, 33],\n",
       "        [37, 38]],\n",
       "\n",
       "       [[57, 58],\n",
       "        [62, 63]]])"
      ]
     },
     "execution_count": 55,
     "metadata": {},
     "output_type": "execute_result"
    }
   ],
   "source": [
    "Slicing3DArray[1:,1:3,2:4]"
   ]
  },
  {
   "cell_type": "code",
   "execution_count": 56,
   "metadata": {},
   "outputs": [
    {
     "data": {
      "text/plain": [
       "array([[[ 7,  8],\n",
       "        [12, 13]],\n",
       "\n",
       "       [[32, 33],\n",
       "        [37, 38]],\n",
       "\n",
       "       [[57, 58],\n",
       "        [62, 63]]])"
      ]
     },
     "execution_count": 56,
     "metadata": {},
     "output_type": "execute_result"
    }
   ],
   "source": [
    "Slicing3DArray[:,1:3,2:4]"
   ]
  },
  {
   "cell_type": "code",
   "execution_count": 57,
   "metadata": {},
   "outputs": [
    {
     "data": {
      "text/plain": [
       "array([[[27, 28],\n",
       "        [32, 33],\n",
       "        [37, 38],\n",
       "        [42, 43],\n",
       "        [47, 48]],\n",
       "\n",
       "       [[52, 53],\n",
       "        [57, 58],\n",
       "        [62, 63],\n",
       "        [67, 68],\n",
       "        [72, 73]]])"
      ]
     },
     "execution_count": 57,
     "metadata": {},
     "output_type": "execute_result"
    }
   ],
   "source": [
    "Slicing3DArray[1:,:,2:4]"
   ]
  },
  {
   "cell_type": "markdown",
   "metadata": {},
   "source": [
    "### Slicing n-D Array\n",
    "\n",
    "In order to slice an n-dimensional array, slicing index of each dimension should be given. the syntax would be \n",
    "\n",
    "```` python\n",
    "arr[start_d1:end_d1:step_d1, start_d2:end_d2:step_d2,start_d3:end_d3:step_d3,...,start_dn:end_dn:step_dn]\n",
    "````\n"
   ]
  },
  {
   "cell_type": "markdown",
   "metadata": {},
   "source": [
    "# 11. Ellipsis in Slicing\n",
    "\n",
    "Suppose we are using a NumPy array which have a greater number of dimensions,let say 5 dimensions created by following code.\n",
    "\n",
    "```` python\n",
    "A_7D_Array = np.arange(216).reshape(3,1,1,1,4)\n",
    "````\n",
    "now this array will have 7 dimension with a shape of (3,1,1,1,4). \n",
    "<br><br>\n",
    "our requirement is to slice the 5th axis. For slicing we would need to give : for wach axis in slicing indexing, as shown below:\n",
    "```` python\n",
    "A_7D_Array[:,:,:,:,1:2]\n",
    "````\n",
    "<br>\n",
    "\n",
    "rather than using : for each axis which isn't to be sliced. We can use ellipsis `...` instead of all these :, for example an equivalent of the code above is:\n",
    "\n",
    "```` python\n",
    "A_7D_Array[...,1:2]\n",
    "````\n"
   ]
  },
  {
   "cell_type": "code",
   "execution_count": 58,
   "metadata": {},
   "outputs": [],
   "source": [
    "A_7D_Array = np.arange(216).reshape(3,3,2,3,4)\n",
    "#A_7D_Array"
   ]
  },
  {
   "cell_type": "code",
   "execution_count": 59,
   "metadata": {},
   "outputs": [
    {
     "data": {
      "text/plain": [
       "array([[[[[  1],\n",
       "          [  5],\n",
       "          [  9]],\n",
       "\n",
       "         [[ 13],\n",
       "          [ 17],\n",
       "          [ 21]]],\n",
       "\n",
       "\n",
       "        [[[ 25],\n",
       "          [ 29],\n",
       "          [ 33]],\n",
       "\n",
       "         [[ 37],\n",
       "          [ 41],\n",
       "          [ 45]]],\n",
       "\n",
       "\n",
       "        [[[ 49],\n",
       "          [ 53],\n",
       "          [ 57]],\n",
       "\n",
       "         [[ 61],\n",
       "          [ 65],\n",
       "          [ 69]]]],\n",
       "\n",
       "\n",
       "\n",
       "       [[[[ 73],\n",
       "          [ 77],\n",
       "          [ 81]],\n",
       "\n",
       "         [[ 85],\n",
       "          [ 89],\n",
       "          [ 93]]],\n",
       "\n",
       "\n",
       "        [[[ 97],\n",
       "          [101],\n",
       "          [105]],\n",
       "\n",
       "         [[109],\n",
       "          [113],\n",
       "          [117]]],\n",
       "\n",
       "\n",
       "        [[[121],\n",
       "          [125],\n",
       "          [129]],\n",
       "\n",
       "         [[133],\n",
       "          [137],\n",
       "          [141]]]],\n",
       "\n",
       "\n",
       "\n",
       "       [[[[145],\n",
       "          [149],\n",
       "          [153]],\n",
       "\n",
       "         [[157],\n",
       "          [161],\n",
       "          [165]]],\n",
       "\n",
       "\n",
       "        [[[169],\n",
       "          [173],\n",
       "          [177]],\n",
       "\n",
       "         [[181],\n",
       "          [185],\n",
       "          [189]]],\n",
       "\n",
       "\n",
       "        [[[193],\n",
       "          [197],\n",
       "          [201]],\n",
       "\n",
       "         [[205],\n",
       "          [209],\n",
       "          [213]]]]])"
      ]
     },
     "execution_count": 59,
     "metadata": {},
     "output_type": "execute_result"
    }
   ],
   "source": [
    "A_7D_Array[:,:,:,:,1:2]"
   ]
  },
  {
   "cell_type": "code",
   "execution_count": 60,
   "metadata": {},
   "outputs": [
    {
     "data": {
      "text/plain": [
       "array([[[[[  1],\n",
       "          [  5],\n",
       "          [  9]],\n",
       "\n",
       "         [[ 13],\n",
       "          [ 17],\n",
       "          [ 21]]],\n",
       "\n",
       "\n",
       "        [[[ 25],\n",
       "          [ 29],\n",
       "          [ 33]],\n",
       "\n",
       "         [[ 37],\n",
       "          [ 41],\n",
       "          [ 45]]],\n",
       "\n",
       "\n",
       "        [[[ 49],\n",
       "          [ 53],\n",
       "          [ 57]],\n",
       "\n",
       "         [[ 61],\n",
       "          [ 65],\n",
       "          [ 69]]]],\n",
       "\n",
       "\n",
       "\n",
       "       [[[[ 73],\n",
       "          [ 77],\n",
       "          [ 81]],\n",
       "\n",
       "         [[ 85],\n",
       "          [ 89],\n",
       "          [ 93]]],\n",
       "\n",
       "\n",
       "        [[[ 97],\n",
       "          [101],\n",
       "          [105]],\n",
       "\n",
       "         [[109],\n",
       "          [113],\n",
       "          [117]]],\n",
       "\n",
       "\n",
       "        [[[121],\n",
       "          [125],\n",
       "          [129]],\n",
       "\n",
       "         [[133],\n",
       "          [137],\n",
       "          [141]]]],\n",
       "\n",
       "\n",
       "\n",
       "       [[[[145],\n",
       "          [149],\n",
       "          [153]],\n",
       "\n",
       "         [[157],\n",
       "          [161],\n",
       "          [165]]],\n",
       "\n",
       "\n",
       "        [[[169],\n",
       "          [173],\n",
       "          [177]],\n",
       "\n",
       "         [[181],\n",
       "          [185],\n",
       "          [189]]],\n",
       "\n",
       "\n",
       "        [[[193],\n",
       "          [197],\n",
       "          [201]],\n",
       "\n",
       "         [[205],\n",
       "          [209],\n",
       "          [213]]]]])"
      ]
     },
     "execution_count": 60,
     "metadata": {},
     "output_type": "execute_result"
    }
   ],
   "source": [
    "A_7D_Array[...,1:2]"
   ]
  },
  {
   "cell_type": "markdown",
   "metadata": {},
   "source": [
    "# 12. Advanced Indexing\n",
    "\n",
    "Unlike list in python, where we can access only one value, we can get multiple values. Advnaced indexing allows the access to variable arbitrarily, permitting them to be accessed out of order and even repeatedly.\n",
    "<br>\n",
    "the basix syntax of indexing is same. i.e\n",
    "````python\n",
    "Array[index]\n",
    "````\n",
    "but in case of advanced indexing, the index can be be iterable i.e. a NumPy Array, a tuple or a list of integer or bolean type. The result is a copy of array.\n",
    "\n",
    "## 12a. integer indexing\n",
    "\n",
    "in integer indexing, the index is an iterable of integers. so all values from NumPy Array whose index is present in index iterables are copied. for example, \n",
    "```` python\n",
    "itrIndex = [p,q,..., y,z]\n",
    "npArray[itrindex]\n",
    "\n",
    "````\n",
    "\n",
    "will return value from npArray at index p,q,...,y,z. <br>\n",
    "Further can be ellaborated by examples below\n",
    "\n",
    "###### let's start with 1-D NumPy array "
   ]
  },
  {
   "cell_type": "code",
   "execution_count": 61,
   "metadata": {},
   "outputs": [
    {
     "data": {
      "text/plain": [
       "array([ 5,  6,  7,  8,  9, 10, 11, 12, 13, 14])"
      ]
     },
     "execution_count": 61,
     "metadata": {},
     "output_type": "execute_result"
    }
   ],
   "source": [
    "Adv_1D_indexing = np.arange(5, 15)\n",
    "Adv_1D_indexing"
   ]
  },
  {
   "cell_type": "code",
   "execution_count": 62,
   "metadata": {},
   "outputs": [],
   "source": [
    "# create a array which contains the indices\n",
    "IndexArray = np.array([1,4,6,8])"
   ]
  },
  {
   "cell_type": "code",
   "execution_count": 63,
   "metadata": {},
   "outputs": [
    {
     "data": {
      "text/plain": [
       "array([ 6,  9, 11, 13])"
      ]
     },
     "execution_count": 63,
     "metadata": {},
     "output_type": "execute_result"
    }
   ],
   "source": [
    "SlicedUsingArray = Adv_1D_indexing[IndexArray]\n",
    "SlicedUsingArray"
   ]
  },
  {
   "cell_type": "markdown",
   "metadata": {},
   "source": [
    "``IndexArray`` contains ``[1,4,6,8] `` and ``Adv_1D_indexing[IndexArray]`` returns the values one indices specified in ``IndexArray`` which is ``[16, 9, 11, 13]`` and and all these values are return as an npArray"
   ]
  },
  {
   "cell_type": "code",
   "execution_count": 64,
   "metadata": {},
   "outputs": [
    {
     "data": {
      "text/plain": [
       "numpy.ndarray"
      ]
     },
     "execution_count": 64,
     "metadata": {},
     "output_type": "execute_result"
    }
   ],
   "source": [
    "type(SlicedUsingArray)"
   ]
  },
  {
   "cell_type": "markdown",
   "metadata": {},
   "source": [
    "in above example, we created a array for indices, we can also acheive using list."
   ]
  },
  {
   "cell_type": "code",
   "execution_count": 65,
   "metadata": {},
   "outputs": [
    {
     "data": {
      "text/plain": [
       "array([ 6,  9, 10, 11])"
      ]
     },
     "execution_count": 65,
     "metadata": {},
     "output_type": "execute_result"
    }
   ],
   "source": [
    "Adv_1D_indexing[[1,4,5,6]]"
   ]
  },
  {
   "cell_type": "markdown",
   "metadata": {},
   "source": [
    "Now as we have seen advanced idexing of 1-D Array, we will now move to 2-D arrays.\n",
    "\n",
    "###### with 2-D NumPy array:\n",
    "in 2-D NumPy arrays, we can give two lists or array containing indices of our 2-D Array.\n",
    "Consider following 2D Arrray\n",
    "\n",
    "\n",
    "||        |||||\n",
    "|:--------:|:------:|:------:|:------:|:------:|:------:|\n",
    "|Column    |        |Column0 |Column1 |Column2 |Column3 |\n",
    "|Index (j) |        |0       |1       |2       |3       | \n",
    "|row       |index(i)|        |        |        |        |\n",
    "|row0      |0       |20      |21      |22      |23      |\n",
    "|row1      |1       |24      |25      |26      |27      |\n",
    "|row2      |2       |28      |29      |30      |31      |\n",
    "|row3      |3       |32      |33      |34      |35      |\n",
    "|row4      |4       |36      |37      |38      |39      |"
   ]
  },
  {
   "cell_type": "code",
   "execution_count": 66,
   "metadata": {},
   "outputs": [
    {
     "data": {
      "text/plain": [
       "array([[20, 21, 22, 23],\n",
       "       [24, 25, 26, 27],\n",
       "       [28, 29, 30, 31],\n",
       "       [32, 33, 34, 35],\n",
       "       [36, 37, 38, 39]])"
      ]
     },
     "execution_count": 66,
     "metadata": {},
     "output_type": "execute_result"
    }
   ],
   "source": [
    "AdvSlicing2DArray = np.arange(20,40).reshape(5,4)\n",
    "AdvSlicing2DArray"
   ]
  },
  {
   "cell_type": "markdown",
   "metadata": {},
   "source": [
    "``AdvSlicing2DArray[[2,4]]`` \n",
    "would return all columns of row2 and row4 of our 2D array, and resulting shape would be (2,4)"
   ]
  },
  {
   "cell_type": "code",
   "execution_count": 67,
   "metadata": {},
   "outputs": [
    {
     "data": {
      "text/plain": [
       "array([[28, 29, 30, 31],\n",
       "       [36, 37, 38, 39]])"
      ]
     },
     "execution_count": 67,
     "metadata": {},
     "output_type": "execute_result"
    }
   ],
   "source": [
    "AdvSlicing2DArray[[2,4]]\n"
   ]
  },
  {
   "cell_type": "markdown",
   "metadata": {},
   "source": [
    "``AdvSlicing2DArray[:,[1,3]]`` would return all rows of our column1 and column3, and resulting shape will be (5,2)"
   ]
  },
  {
   "cell_type": "code",
   "execution_count": 68,
   "metadata": {},
   "outputs": [
    {
     "data": {
      "text/plain": [
       "array([[21, 23],\n",
       "       [25, 27],\n",
       "       [29, 31],\n",
       "       [33, 35],\n",
       "       [37, 39]])"
      ]
     },
     "execution_count": 68,
     "metadata": {},
     "output_type": "execute_result"
    }
   ],
   "source": [
    "AdvSlicing2DArray[:,[1,3]]"
   ]
  },
  {
   "cell_type": "markdown",
   "metadata": {},
   "source": [
    "If required to get a specific values from 2-D array, It is bit trickeir, first we need to have an iterable that contains row indices of our required value, and second iterable need to be the indices of columns of these values.\n",
    "\n",
    "For example, we need to extract ``21, 26, 31, 32, 37, 38``. Each of this value have following indices in terms of row, cloumn index pair are:\n",
    "\n",
    "|Value|Index (rowIndex, ColumnIndex)|\n",
    "|:---:|:---------------------------:|\n",
    "|21   |(0, 1)                       |\n",
    "|26   |(1, 2)                       |\n",
    "|31   |(2, 3)                       |\n",
    "|32   |(3, 0)                       |\n",
    "|37   |(4, 1)                       |\n",
    "|21   |(4, 2)                       |\n",
    "\n",
    "<br>\n",
    "Making Row and Column indices list from above pairs"
   ]
  },
  {
   "cell_type": "code",
   "execution_count": 69,
   "metadata": {},
   "outputs": [],
   "source": [
    "rowIndices = [0,1,2,3,4,4]\n",
    "colIndices = [1,2,3,0,1,2]"
   ]
  },
  {
   "cell_type": "code",
   "execution_count": 70,
   "metadata": {},
   "outputs": [
    {
     "data": {
      "text/plain": [
       "array([21, 26, 31, 32, 37, 38])"
      ]
     },
     "execution_count": 70,
     "metadata": {},
     "output_type": "execute_result"
    }
   ],
   "source": [
    "AdvSlicing2DArray[rowIndices, colIndices]"
   ]
  },
  {
   "cell_type": "markdown",
   "metadata": {},
   "source": [
    "In this case we provided in terms of list and both list must be equal. Each list corresponds to each axis, i.e rows and columns of our 2-D array. "
   ]
  },
  {
   "cell_type": "markdown",
   "metadata": {},
   "source": [
    "###### with 3-D NumPy array:\n",
    "\n",
    "Now we create a 3-D array with a shape of 2x5x4. \n",
    "\n",
    "||        ||*axis0*|axis0 index = 0||\n",
    "|:--------:|:------:|:------:|:------:|:------:|:------:|\n",
    "|          |axis2   |Column0 |Column1 |Column2 |Column3 |\n",
    "|Index (j) |Index(j)|0       |1       |2       |3       | \n",
    "|axis1     |index(i)|        |        |        |        |\n",
    "|row0      |0       |20      |21      |22      |23      |\n",
    "|row1      |1       |24      |25      |26      |27      |\n",
    "|row2      |2       |28      |29      |30      |31      |\n",
    "|row3      |3       |32      |33      |34      |35      |\n",
    "|row4      |4       |36      |37      |38      |39      |\n",
    "\n",
    "\n",
    "||        ||*axis0*| axis0 index = 1||\n",
    "|:--------:|:------:|:------:|:------:|:------:|:------:|\n",
    "|          |axis2   |Column0 |Column1 |Column2 |Column3 |\n",
    "|Index (j) |Index(j)|0       |1       |2       |3       | \n",
    "|axis1     |index(i)|        |        |        |        |\n",
    "|row0      |0       |40      |41      |42      |43      |\n",
    "|row1      |1       |44      |25      |26      |47      |\n",
    "|row2      |2       |48      |49      |50      |51      |\n",
    "|row3      |3       |52      |53      |54      |55      |\n",
    "|row4      |4       |56      |57      |58      |59      |"
   ]
  },
  {
   "cell_type": "code",
   "execution_count": 71,
   "metadata": {},
   "outputs": [
    {
     "data": {
      "text/plain": [
       "array([[[20, 21, 22, 23],\n",
       "        [24, 25, 26, 27],\n",
       "        [28, 29, 30, 31],\n",
       "        [32, 33, 34, 35],\n",
       "        [36, 37, 38, 39]],\n",
       "\n",
       "       [[40, 41, 42, 43],\n",
       "        [44, 45, 46, 47],\n",
       "        [48, 49, 50, 51],\n",
       "        [52, 53, 54, 55],\n",
       "        [56, 57, 58, 59]]])"
      ]
     },
     "execution_count": 71,
     "metadata": {},
     "output_type": "execute_result"
    }
   ],
   "source": [
    "AdvSlicing3DArray = np.arange(20,60).reshape(2,5,4)\n",
    "AdvSlicing3DArray"
   ]
  },
  {
   "cell_type": "markdown",
   "metadata": {},
   "source": [
    "Now we need to extarct ``29, 34, 48, 57`` from above 3-D array. In this case this values will have following, indices in terms of axis0, axis1(row), axis2(column)\n",
    "\n",
    "|Value|Index (axi0,axis1,axis2)     |\n",
    "|:---:|:---------------------------:|\n",
    "|29   |(0, 2, 1)                    |\n",
    "|34   |(0, 3, 2)                    |\n",
    "|48   |(1, 2, 0)                    |\n",
    "|32   |(1, 4, 1)                    |\n",
    "\n",
    "Now in terms of lists:"
   ]
  },
  {
   "cell_type": "code",
   "execution_count": 72,
   "metadata": {},
   "outputs": [],
   "source": [
    "axis0_Indices = [0, 0, 1, 1]\n",
    "axis1_Indices = [2, 3, 2, 4]\n",
    "axis2_Indices = [1, 2, 0, 1]"
   ]
  },
  {
   "cell_type": "code",
   "execution_count": 73,
   "metadata": {},
   "outputs": [
    {
     "data": {
      "text/plain": [
       "array([29, 34, 48, 57])"
      ]
     },
     "execution_count": 73,
     "metadata": {},
     "output_type": "execute_result"
    }
   ],
   "source": [
    "AdvSlicing3DArray[axis0_Indices, axis1_Indices, axis2_Indices]"
   ]
  },
  {
   "cell_type": "markdown",
   "metadata": {},
   "source": [
    "## 12b. boolean indexing\n",
    "\n",
    "This type of indexing uses boolean comparision to get the required element from an array. For example, if we have a NumPy array named ``npArray`` then \n",
    "```` python\n",
    "npArray[npArray < Num]\n",
    "````\n",
    "\n",
    "will return all elements in ``npArray`` which are less than ``Num``."
   ]
  },
  {
   "cell_type": "code",
   "execution_count": 74,
   "metadata": {},
   "outputs": [],
   "source": [
    "BooleanIndexArr = np.random.randint(0,15,(3,4,5))"
   ]
  },
  {
   "cell_type": "code",
   "execution_count": 75,
   "metadata": {},
   "outputs": [
    {
     "data": {
      "text/plain": [
       "array([[[ 9,  2,  0,  4,  8],\n",
       "        [ 6, 13,  6,  0, 14],\n",
       "        [ 6,  2,  2,  2, 13],\n",
       "        [ 4, 10,  1,  3, 11]],\n",
       "\n",
       "       [[ 1,  8,  5,  2,  8],\n",
       "        [ 5, 10, 13, 13,  6],\n",
       "        [13,  5,  2,  4,  0],\n",
       "        [12,  2,  3,  0,  1]],\n",
       "\n",
       "       [[ 9,  0, 11, 14, 12],\n",
       "        [ 2,  9,  9,  7, 14],\n",
       "        [ 4, 10,  8,  6,  3],\n",
       "        [13,  2, 12, 14,  0]]])"
      ]
     },
     "execution_count": 75,
     "metadata": {},
     "output_type": "execute_result"
    }
   ],
   "source": [
    "BooleanIndexArr"
   ]
  },
  {
   "cell_type": "code",
   "execution_count": 76,
   "metadata": {},
   "outputs": [
    {
     "data": {
      "text/plain": [
       "array([2, 0, 4, 0, 2, 2, 2, 4, 1, 3, 1, 2, 2, 4, 0, 2, 3, 0, 1, 0, 2, 4,\n",
       "       3, 2, 0])"
      ]
     },
     "execution_count": 76,
     "metadata": {},
     "output_type": "execute_result"
    }
   ],
   "source": [
    "BooleanIndexArr[BooleanIndexArr < 5]"
   ]
  },
  {
   "cell_type": "code",
   "execution_count": 77,
   "metadata": {},
   "outputs": [
    {
     "data": {
      "text/plain": [
       "array([ 9,  8,  6, 13,  6, 14,  6, 13, 10, 11,  8,  8, 10, 13, 13,  6, 13,\n",
       "       12,  9, 11, 14, 12,  9,  9,  7, 14, 10,  8,  6, 13, 12, 14])"
      ]
     },
     "execution_count": 77,
     "metadata": {},
     "output_type": "execute_result"
    }
   ],
   "source": [
    "BooleanIndexArr[BooleanIndexArr > 5] # Should return all elements greater than 5"
   ]
  },
  {
   "cell_type": "code",
   "execution_count": 78,
   "metadata": {},
   "outputs": [
    {
     "data": {
      "text/plain": [
       "array([5, 5, 5])"
      ]
     },
     "execution_count": 78,
     "metadata": {},
     "output_type": "execute_result"
    }
   ],
   "source": [
    "BooleanIndexArr[BooleanIndexArr == 5] #should return all elements equal to five."
   ]
  },
  {
   "cell_type": "markdown",
   "metadata": {},
   "source": [
    "# 13. Arithmetic operation with *NumPy Arrays*\n",
    "\n",
    "Numpy arrays support two type of arithmetic operations:\n",
    "\n",
    "1. Scalar Arithmetics.\n",
    "2. Array Arithmetics.\n",
    "\n",
    "## 13a. Scalar Arithmetics:\n",
    "\n",
    "Scalar arithmetics is done while doing some operation with a single number. For example, if *npArray* is a array, ``npArray + 2`` will add 2 in each element of npArray. this is an example of scalar Arithmetics. "
   ]
  },
  {
   "cell_type": "code",
   "execution_count": 79,
   "metadata": {},
   "outputs": [],
   "source": [
    "npArray = np.random.randint(1,10,(2,3))"
   ]
  },
  {
   "cell_type": "code",
   "execution_count": 80,
   "metadata": {},
   "outputs": [
    {
     "data": {
      "text/plain": [
       "array([[9, 1, 2],\n",
       "       [4, 3, 6]])"
      ]
     },
     "execution_count": 80,
     "metadata": {},
     "output_type": "execute_result"
    }
   ],
   "source": [
    "npArray"
   ]
  },
  {
   "cell_type": "code",
   "execution_count": 81,
   "metadata": {},
   "outputs": [
    {
     "data": {
      "text/plain": [
       "array([[11,  3,  4],\n",
       "       [ 6,  5,  8]])"
      ]
     },
     "execution_count": 81,
     "metadata": {},
     "output_type": "execute_result"
    }
   ],
   "source": [
    "npArray + 2 "
   ]
  },
  {
   "cell_type": "markdown",
   "metadata": {},
   "source": [
    "and Any mathmetical operation can be done."
   ]
  },
  {
   "cell_type": "code",
   "execution_count": 82,
   "metadata": {},
   "outputs": [
    {
     "data": {
      "text/plain": [
       "array([[18,  2,  4],\n",
       "       [ 8,  6, 12]])"
      ]
     },
     "execution_count": 82,
     "metadata": {},
     "output_type": "execute_result"
    }
   ],
   "source": [
    "npArray * 2"
   ]
  },
  {
   "cell_type": "code",
   "execution_count": 83,
   "metadata": {},
   "outputs": [
    {
     "data": {
      "text/plain": [
       "array([[ 4, -4, -3],\n",
       "       [-1, -2,  1]])"
      ]
     },
     "execution_count": 83,
     "metadata": {},
     "output_type": "execute_result"
    }
   ],
   "source": [
    "npArray - 5 "
   ]
  },
  {
   "cell_type": "code",
   "execution_count": 84,
   "metadata": {},
   "outputs": [
    {
     "data": {
      "text/plain": [
       "array([[2.25, 0.25, 0.5 ],\n",
       "       [1.  , 0.75, 1.5 ]])"
      ]
     },
     "execution_count": 84,
     "metadata": {},
     "output_type": "execute_result"
    }
   ],
   "source": [
    "npArray / 4"
   ]
  },
  {
   "cell_type": "code",
   "execution_count": 85,
   "metadata": {},
   "outputs": [
    {
     "data": {
      "text/plain": [
       "array([[81,  1,  4],\n",
       "       [16,  9, 36]], dtype=int32)"
      ]
     },
     "execution_count": 85,
     "metadata": {},
     "output_type": "execute_result"
    }
   ],
   "source": [
    "npArray ** 2"
   ]
  },
  {
   "cell_type": "markdown",
   "metadata": {},
   "source": [
    "## 13b. Array or Vector Arithmetics.\n",
    "\n",
    "When arithmetics is done on two or more array, it is called array artihmetics. We will start wiht basic arithmetics operations such as add and sub on array with same dimensions and shapes\n",
    ".\n",
    "\n",
    "Consider two arrays\n",
    "\n",
    "Array1 = [1,3,5,7]\n",
    "and\n",
    "Array2 = [0,2,4,8]\n",
    "<br>\n",
    "Array1 + Array2 will give an Array which will be [1, 5, 9, 15]. it adds the elements on same indices. In our example, the addition is done as below:<br>\n",
    "``[0+1, 3+2, 5+4, 7+8] = [1, 5, 9, 15]``"
   ]
  },
  {
   "cell_type": "code",
   "execution_count": 86,
   "metadata": {},
   "outputs": [
    {
     "data": {
      "text/plain": [
       "array([ 1,  5,  9, 15])"
      ]
     },
     "execution_count": 86,
     "metadata": {},
     "output_type": "execute_result"
    }
   ],
   "source": [
    "Array1 = np.array([1,3,5,7])\n",
    "Array2 = np.array([0,2,4,8])\n",
    "Array1 + Array2"
   ]
  },
  {
   "cell_type": "markdown",
   "metadata": {},
   "source": [
    "subtraction is done in the same way i.e. values at same indices are subtracted."
   ]
  },
  {
   "cell_type": "code",
   "execution_count": 87,
   "metadata": {},
   "outputs": [
    {
     "data": {
      "text/plain": [
       "array([-1, -1, -1, -1])"
      ]
     },
     "execution_count": 87,
     "metadata": {},
     "output_type": "execute_result"
    }
   ],
   "source": [
    "Array1 = np.array([1,3,5,7])\n",
    "Array2 = np.array([0,2,4,6])\n",
    "Array2 - Array1"
   ]
  },
  {
   "cell_type": "markdown",
   "metadata": {},
   "source": [
    "For two dimensial Arrays:"
   ]
  },
  {
   "cell_type": "code",
   "execution_count": 88,
   "metadata": {},
   "outputs": [
    {
     "name": "stdout",
     "output_type": "stream",
     "text": [
      "Array1\n",
      "[[9 9 1]\n",
      " [7 7 1]]\n",
      "Array2\n",
      "[[7 1 1]\n",
      " [7 8 3]]\n"
     ]
    }
   ],
   "source": [
    "Array1 = np.random.randint(1,10,(2,3))\n",
    "Array2 = np.random.randint(1,10,(2,3))\n",
    "print(\"Array1\", Array1, sep = \"\\n\")\n",
    "print(\"Array2\", Array2, sep = \"\\n\")\n"
   ]
  },
  {
   "cell_type": "code",
   "execution_count": 89,
   "metadata": {},
   "outputs": [
    {
     "data": {
      "text/plain": [
       "array([[16, 10,  2],\n",
       "       [14, 15,  4]])"
      ]
     },
     "execution_count": 89,
     "metadata": {},
     "output_type": "execute_result"
    }
   ],
   "source": [
    "Array1 + Array2"
   ]
  },
  {
   "cell_type": "markdown",
   "metadata": {},
   "source": [
    "similarly, elements on same index were added.\n",
    "<br><br>\n",
    "for multiplication, there are two type of multiplication.\n",
    "1. Element wise multiplication (Scalar multiplication)\n",
    "2. Matrix Multiplication\n",
    "\n",
    "### 1. Element Wise multiplication:\n",
    "\n",
    "In this type of multiplication, when multiplied each element of one array is element is multiple by element on same index on same array. For example:\n"
   ]
  },
  {
   "cell_type": "code",
   "execution_count": 90,
   "metadata": {},
   "outputs": [
    {
     "name": "stdout",
     "output_type": "stream",
     "text": [
      "Array1\n",
      "[4 9 6 4 9 2]\n",
      "Array2\n",
      "[4 7 7 4 3 9]\n"
     ]
    }
   ],
   "source": [
    "Array1 = np.random.randint(1,10,(6,))\n",
    "Array2 = np.random.randint(1,10,(6,))\n",
    "print(\"Array1\", Array1, sep = \"\\n\")\n",
    "print(\"Array2\", Array2, sep = \"\\n\")"
   ]
  },
  {
   "cell_type": "code",
   "execution_count": 91,
   "metadata": {},
   "outputs": [
    {
     "data": {
      "text/plain": [
       "array([16, 63, 42, 16, 27, 18])"
      ]
     },
     "execution_count": 91,
     "metadata": {},
     "output_type": "execute_result"
    }
   ],
   "source": [
    "Array1 * Array2"
   ]
  },
  {
   "cell_type": "markdown",
   "metadata": {},
   "source": [
    "smilarly for multidimensional array: "
   ]
  },
  {
   "cell_type": "code",
   "execution_count": 92,
   "metadata": {},
   "outputs": [
    {
     "name": "stdout",
     "output_type": "stream",
     "text": [
      "Array1\n",
      "[[2 2]\n",
      " [2 5]]\n",
      "Array2\n",
      "[[5 8]\n",
      " [6 7]]\n"
     ]
    }
   ],
   "source": [
    "Array1 = np.random.randint(1,10,(2,2))\n",
    "Array2 = np.random.randint(1,10,(2,2))\n",
    "print(\"Array1\", Array1, sep = \"\\n\")\n",
    "print(\"Array2\", Array2, sep = \"\\n\")"
   ]
  },
  {
   "cell_type": "code",
   "execution_count": 93,
   "metadata": {},
   "outputs": [
    {
     "data": {
      "text/plain": [
       "array([[10, 16],\n",
       "       [12, 35]])"
      ]
     },
     "execution_count": 93,
     "metadata": {},
     "output_type": "execute_result"
    }
   ],
   "source": [
    "Array1 * Array2"
   ]
  },
  {
   "cell_type": "markdown",
   "metadata": {},
   "source": [
    "### Matrix multiplication:\n",
    "\n",
    "for Matrix multiplicaion, ``@`` operator is used. It has certain condition: for example. for 2D arrays with shapes (m,n) and (j,k); n must be equal to j. otherwise and error will be generated. and multiplication is done as follow:\n",
    "<br>\n",
    "Consider Matrix (arrray) a with a shape of (2, 3) \n",
    "<br>\n",
    "$$ \n",
    "a = \\begin{bmatrix} a_{00} & a_{01} & a_{02} \\\\ \n",
    "a_{10} & a_{11} & a_{12} \\end{bmatrix}\n",
    "$$\n",
    "<br> and another matrix b, with a shape of (3, 2)\n",
    "$$\n",
    "b = \\begin{bmatrix} \n",
    "b_{00} & b_{01} \\\\ \n",
    "b_{10} & b_{11} \\\\\n",
    "b_{20} & b_{21}\\end{bmatrix}\n",
    "$$\n",
    "<br> as number of columns of a are eqrual to numner of rows of b, they can be multiplied. and the resultant matrix(array) will be\n",
    "\n",
    "$$\n",
    "res = \\begin{bmatrix}  \n",
    "a_{00} \\times b_{00} + a_{01} \\times b_{10} + a_{02} \\times b_{20} & \n",
    "a_{00} \\times b_{01} + a_{01} \\times b_{11} + a_{02} \\times b_{21} \n",
    "\\\\\n",
    "a_{10} \\times b_{00} + a_{11} \\times b_{10} + a_{12} \\times b_{20} & \n",
    "a_{10} \\times b_{01} + a_{11} \\times b_{11} + a_{12} \\times b_{21}\n",
    "\\end{bmatrix}\n",
    "$$"
   ]
  },
  {
   "cell_type": "code",
   "execution_count": 94,
   "metadata": {},
   "outputs": [
    {
     "data": {
      "text/plain": [
       "array([[1, 2, 3],\n",
       "       [4, 5, 6]])"
      ]
     },
     "execution_count": 94,
     "metadata": {},
     "output_type": "execute_result"
    }
   ],
   "source": [
    "Array1 = np.array([[1,2,3],[4,5,6]])\n",
    "Array1"
   ]
  },
  {
   "cell_type": "code",
   "execution_count": 95,
   "metadata": {},
   "outputs": [
    {
     "data": {
      "text/plain": [
       "array([[1, 2],\n",
       "       [4, 5],\n",
       "       [7, 8]])"
      ]
     },
     "execution_count": 95,
     "metadata": {},
     "output_type": "execute_result"
    }
   ],
   "source": [
    "Array2 = np.array([[1,2],[4,5],[7,8]])\n",
    "Array2"
   ]
  },
  {
   "cell_type": "markdown",
   "metadata": {},
   "source": [
    "For this Array1 and Array2, the matrix product is calculated as:\n",
    "\n",
    "$$\n",
    "\\begin{bmatrix}  \n",
    "1 \\times 1 + 2 \\times 4 + 3 \\times 7 & \n",
    "1 \\times 2 + 2 \\times 5 + 3 \\times 8 \n",
    "\\\\\n",
    "4 \\times 1 + 6 \\times 4 + 6 \\times 7 & \n",
    "4 \\times 2 + 5 \\times 5 + 6 \\times 8\n",
    "\\end{bmatrix}\n",
    "$$"
   ]
  },
  {
   "cell_type": "code",
   "execution_count": 96,
   "metadata": {},
   "outputs": [
    {
     "data": {
      "text/plain": [
       "array([[30, 36],\n",
       "       [66, 81]])"
      ]
     },
     "execution_count": 96,
     "metadata": {},
     "output_type": "execute_result"
    }
   ],
   "source": [
    "Array1 @ Array2"
   ]
  },
  {
   "cell_type": "markdown",
   "metadata": {},
   "source": [
    "# 14. Broadcasting\n",
    "\n",
    "The arithmetic operation between two arrays with different dimensions is done by using braodcasting. The simplest form of broadcasting is arithmetic operation with a scalar as we had seen earlier. For example, suppose one diemsional array. "
   ]
  },
  {
   "cell_type": "code",
   "execution_count": 97,
   "metadata": {},
   "outputs": [],
   "source": [
    "a = np.array([1,2,3,4,5])"
   ]
  },
  {
   "cell_type": "markdown",
   "metadata": {},
   "source": [
    "Now suppose we add two in this array, the result is:\n"
   ]
  },
  {
   "cell_type": "code",
   "execution_count": 98,
   "metadata": {},
   "outputs": [
    {
     "data": {
      "text/plain": [
       "array([3, 4, 5, 6, 7])"
      ]
     },
     "execution_count": 98,
     "metadata": {},
     "output_type": "execute_result"
    }
   ],
   "source": [
    "a + 2"
   ]
  },
  {
   "cell_type": "markdown",
   "metadata": {},
   "source": [
    "As it can be seen that 2 is added in each member of a it. What it seems to happens, not in actual, is 2 is *broadcasted* (stretched) over the length of array ``a`` and then both of these are added. A rough illustration can be as follow:\n",
    "\n",
    "<img src = \"npss\\np1.PNG\">"
   ]
  },
  {
   "cell_type": "markdown",
   "metadata": {},
   "source": [
    "This was the simplest form of broadcasting. *But what if we want to have some arithmetic operation on two arrays?* In such case, we first need to check if *broadcasting* is possible by using *broadcasting rule*\n",
    "\n",
    "### Broadcasting Rule:\n",
    "\n",
    "The shape of two arrays are compared element wise from the trailing dimension (from right side), two dimensions are compatible if:\n",
    "\n",
    "1. Both shape are equal.\n",
    "2. Any of the shape is 1.\n",
    "\n",
    "When all dimensions are compatible, broadcasting can be done otherwise an exception is thrown: ``ValueError: operands could not be broadcast together``.\n",
    "\n",
    "In case broadcasting rule is satisified, the array is *broadcasted* over the missing dimensions and then arrithmetic operation is done.\n",
    "\n",
    "Now let us see some examples, starting from simple and then going to the complex ones. Let us have two arrays, each of single dimension."
   ]
  },
  {
   "cell_type": "code",
   "execution_count": 99,
   "metadata": {},
   "outputs": [],
   "source": [
    "array1 = np.array([1,2,3])\n",
    "array2 = np.array([1,2,3,4])"
   ]
  },
  {
   "cell_type": "code",
   "execution_count": 100,
   "metadata": {},
   "outputs": [
    {
     "data": {
      "text/plain": [
       "(3,)"
      ]
     },
     "execution_count": 100,
     "metadata": {},
     "output_type": "execute_result"
    }
   ],
   "source": [
    "array1.shape"
   ]
  },
  {
   "cell_type": "code",
   "execution_count": 101,
   "metadata": {},
   "outputs": [
    {
     "data": {
      "text/plain": [
       "(4,)"
      ]
     },
     "execution_count": 101,
     "metadata": {},
     "output_type": "execute_result"
    }
   ],
   "source": [
    "array2.shape"
   ]
  },
  {
   "cell_type": "markdown",
   "metadata": {},
   "source": [
    "let us add these two arrays:"
   ]
  },
  {
   "cell_type": "code",
   "execution_count": 102,
   "metadata": {},
   "outputs": [
    {
     "ename": "ValueError",
     "evalue": "operands could not be broadcast together with shapes (3,) (4,) ",
     "output_type": "error",
     "traceback": [
      "\u001b[1;31m---------------------------------------------------------------------------\u001b[0m",
      "\u001b[1;31mValueError\u001b[0m                                Traceback (most recent call last)",
      "\u001b[1;32m<ipython-input-102-5a881dd2964f>\u001b[0m in \u001b[0;36m<module>\u001b[1;34m\u001b[0m\n\u001b[1;32m----> 1\u001b[1;33m \u001b[0marray1\u001b[0m \u001b[1;33m+\u001b[0m \u001b[0marray2\u001b[0m\u001b[1;33m\u001b[0m\u001b[1;33m\u001b[0m\u001b[0m\n\u001b[0m",
      "\u001b[1;31mValueError\u001b[0m: operands could not be broadcast together with shapes (3,) (4,) "
     ]
    }
   ],
   "source": [
    "array1 + array2"
   ]
  },
  {
   "cell_type": "markdown",
   "metadata": {},
   "source": [
    "an exception is thrown, it is because the ``array1`` shape is (3,) and ``array2`` shape is (4,) and clearly 3 and 4 not equal and therefor broadcasting cannot be done. Now let us take an example, of a 2 dimensional arrays. suppose an array:"
   ]
  },
  {
   "cell_type": "code",
   "execution_count": 103,
   "metadata": {},
   "outputs": [
    {
     "data": {
      "text/plain": [
       "array([[0, 1],\n",
       "       [2, 3],\n",
       "       [4, 5]])"
      ]
     },
     "execution_count": 103,
     "metadata": {},
     "output_type": "execute_result"
    }
   ],
   "source": [
    "array1 = np.arange(6).reshape(3,2)\n",
    "array1"
   ]
  },
  {
   "cell_type": "code",
   "execution_count": 104,
   "metadata": {},
   "outputs": [
    {
     "data": {
      "text/plain": [
       "array([[0, 1],\n",
       "       [2, 3]])"
      ]
     },
     "execution_count": 104,
     "metadata": {},
     "output_type": "execute_result"
    }
   ],
   "source": [
    "array2 = np.arange(4).reshape(2,2)\n",
    "array2"
   ]
  },
  {
   "cell_type": "code",
   "execution_count": 105,
   "metadata": {},
   "outputs": [
    {
     "data": {
      "text/plain": [
       "(3, 2)"
      ]
     },
     "execution_count": 105,
     "metadata": {},
     "output_type": "execute_result"
    }
   ],
   "source": [
    "array1.shape"
   ]
  },
  {
   "cell_type": "code",
   "execution_count": 106,
   "metadata": {},
   "outputs": [
    {
     "data": {
      "text/plain": [
       "(2, 2)"
      ]
     },
     "execution_count": 106,
     "metadata": {},
     "output_type": "execute_result"
    }
   ],
   "source": [
    "array2.shape"
   ]
  },
  {
   "cell_type": "markdown",
   "metadata": {},
   "source": [
    "Now let's add these two arrays:"
   ]
  },
  {
   "cell_type": "code",
   "execution_count": 107,
   "metadata": {},
   "outputs": [
    {
     "ename": "ValueError",
     "evalue": "operands could not be broadcast together with shapes (3,2) (2,2) ",
     "output_type": "error",
     "traceback": [
      "\u001b[1;31m---------------------------------------------------------------------------\u001b[0m",
      "\u001b[1;31mValueError\u001b[0m                                Traceback (most recent call last)",
      "\u001b[1;32m<ipython-input-107-5a881dd2964f>\u001b[0m in \u001b[0;36m<module>\u001b[1;34m\u001b[0m\n\u001b[1;32m----> 1\u001b[1;33m \u001b[0marray1\u001b[0m \u001b[1;33m+\u001b[0m \u001b[0marray2\u001b[0m\u001b[1;33m\u001b[0m\u001b[1;33m\u001b[0m\u001b[0m\n\u001b[0m",
      "\u001b[1;31mValueError\u001b[0m: operands could not be broadcast together with shapes (3,2) (2,2) "
     ]
    }
   ],
   "source": [
    "array1 + array2"
   ]
  },
  {
   "cell_type": "markdown",
   "metadata": {},
   "source": [
    "Now again we have an exception, but *why*?\n",
    "\n",
    "``array1`` have a shape of (3, 2) and ``array2`` shape is (2, 2). Starting from the trailing dimensional(from right side) the shape of right most dimensions is 2 for both arrays. Now the next dimensions are to be compared, the shape of next dimension for ``array1`` is 3 and ``array2`` is 2. As neither the shape of this dimension is equal, nor any of the shape is 1, broadcasting is not possible.\n",
    "\n",
    "Now let us assume two more arrays:\n"
   ]
  },
  {
   "cell_type": "code",
   "execution_count": 108,
   "metadata": {},
   "outputs": [
    {
     "data": {
      "text/plain": [
       "array([[1, 2],\n",
       "       [3, 4],\n",
       "       [5, 6]])"
      ]
     },
     "execution_count": 108,
     "metadata": {},
     "output_type": "execute_result"
    }
   ],
   "source": [
    "array1 = np.array([[1,2],[3, 4],[5,6]])\n",
    "array1"
   ]
  },
  {
   "cell_type": "code",
   "execution_count": 109,
   "metadata": {},
   "outputs": [
    {
     "data": {
      "text/plain": [
       "array([1, 2])"
      ]
     },
     "execution_count": 109,
     "metadata": {},
     "output_type": "execute_result"
    }
   ],
   "source": [
    "array2 = np.array([1, 2])\n",
    "array2"
   ]
  },
  {
   "cell_type": "code",
   "execution_count": 110,
   "metadata": {},
   "outputs": [
    {
     "data": {
      "text/plain": [
       "(3, 2)"
      ]
     },
     "execution_count": 110,
     "metadata": {},
     "output_type": "execute_result"
    }
   ],
   "source": [
    "array1.shape"
   ]
  },
  {
   "cell_type": "code",
   "execution_count": 111,
   "metadata": {},
   "outputs": [
    {
     "data": {
      "text/plain": [
       "(2,)"
      ]
     },
     "execution_count": 111,
     "metadata": {},
     "output_type": "execute_result"
    }
   ],
   "source": [
    "array2.shape"
   ]
  },
  {
   "cell_type": "markdown",
   "metadata": {},
   "source": [
    "Now let us add  both arrays"
   ]
  },
  {
   "cell_type": "code",
   "execution_count": 112,
   "metadata": {},
   "outputs": [
    {
     "data": {
      "text/plain": [
       "array([[2, 4],\n",
       "       [4, 6],\n",
       "       [6, 8]])"
      ]
     },
     "execution_count": 112,
     "metadata": {},
     "output_type": "execute_result"
    }
   ],
   "source": [
    "array1 + array2"
   ]
  },
  {
   "cell_type": "markdown",
   "metadata": {},
   "source": [
    "Now ``array2`` is shape is (2) and and ``array1`` shape is (3, 2). Starting from right, both shapes are 2. Now because ``array2`` is single dimensional, no need to compare shape of next dimensions. Now as broadcasting is possible, ``array2`` is brodcasted over the missing dimension. And then both arrays are added. A rough depiction is:\n",
    "\n",
    "<img src = \"npss\\np2.PNG\">"
   ]
  },
  {
   "cell_type": "markdown",
   "metadata": {},
   "source": [
    "let us have another example:\n",
    "    "
   ]
  },
  {
   "cell_type": "code",
   "execution_count": 113,
   "metadata": {},
   "outputs": [
    {
     "data": {
      "text/plain": [
       "array([[[[ 0,  1],\n",
       "         [ 2,  3],\n",
       "         [ 4,  5],\n",
       "         [ 6,  7]],\n",
       "\n",
       "        [[ 8,  9],\n",
       "         [10, 11],\n",
       "         [12, 13],\n",
       "         [14, 15]],\n",
       "\n",
       "        [[16, 17],\n",
       "         [18, 19],\n",
       "         [20, 21],\n",
       "         [22, 23]]],\n",
       "\n",
       "\n",
       "       [[[24, 25],\n",
       "         [26, 27],\n",
       "         [28, 29],\n",
       "         [30, 31]],\n",
       "\n",
       "        [[32, 33],\n",
       "         [34, 35],\n",
       "         [36, 37],\n",
       "         [38, 39]],\n",
       "\n",
       "        [[40, 41],\n",
       "         [42, 43],\n",
       "         [44, 45],\n",
       "         [46, 47]]]])"
      ]
     },
     "execution_count": 113,
     "metadata": {},
     "output_type": "execute_result"
    }
   ],
   "source": [
    "array1 = np.arange(48).reshape(2,3,4,2)\n",
    "array1"
   ]
  },
  {
   "cell_type": "code",
   "execution_count": 114,
   "metadata": {},
   "outputs": [
    {
     "data": {
      "text/plain": [
       "array([[[0, 1],\n",
       "        [2, 3],\n",
       "        [4, 5],\n",
       "        [6, 7]]])"
      ]
     },
     "execution_count": 114,
     "metadata": {},
     "output_type": "execute_result"
    }
   ],
   "source": [
    "array2 = np.arange(8).reshape(1,4,2)\n",
    "array2"
   ]
  },
  {
   "cell_type": "code",
   "execution_count": 115,
   "metadata": {},
   "outputs": [
    {
     "data": {
      "text/plain": [
       "(2, 3, 4, 2)"
      ]
     },
     "execution_count": 115,
     "metadata": {},
     "output_type": "execute_result"
    }
   ],
   "source": [
    "array1.shape"
   ]
  },
  {
   "cell_type": "code",
   "execution_count": 116,
   "metadata": {},
   "outputs": [
    {
     "data": {
      "text/plain": [
       "(1, 4, 2)"
      ]
     },
     "execution_count": 116,
     "metadata": {},
     "output_type": "execute_result"
    }
   ],
   "source": [
    "array2.shape"
   ]
  },
  {
   "cell_type": "code",
   "execution_count": 117,
   "metadata": {},
   "outputs": [
    {
     "data": {
      "text/plain": [
       "array([[[[ 0,  2],\n",
       "         [ 4,  6],\n",
       "         [ 8, 10],\n",
       "         [12, 14]],\n",
       "\n",
       "        [[ 8, 10],\n",
       "         [12, 14],\n",
       "         [16, 18],\n",
       "         [20, 22]],\n",
       "\n",
       "        [[16, 18],\n",
       "         [20, 22],\n",
       "         [24, 26],\n",
       "         [28, 30]]],\n",
       "\n",
       "\n",
       "       [[[24, 26],\n",
       "         [28, 30],\n",
       "         [32, 34],\n",
       "         [36, 38]],\n",
       "\n",
       "        [[32, 34],\n",
       "         [36, 38],\n",
       "         [40, 42],\n",
       "         [44, 46]],\n",
       "\n",
       "        [[40, 42],\n",
       "         [44, 46],\n",
       "         [48, 50],\n",
       "         [52, 54]]]])"
      ]
     },
     "execution_count": 117,
     "metadata": {},
     "output_type": "execute_result"
    }
   ],
   "source": [
    "array1 + array2"
   ]
  },
  {
   "cell_type": "markdown",
   "metadata": {},
   "source": [
    " in this example, the shape of two dimensions from the right side are equal, but the shape of third dimension is not equal however the shape of ``array2`` for this dimension is 1. So now broadcasting can be done."
   ]
  },
  {
   "cell_type": "markdown",
   "metadata": {},
   "source": [
    "# 15. Array Manipulation.\n",
    "\n",
    "This feature allows users to perform different operations. There are many mehtods used in array manipulation for different operation. Some of these are:\n"
   ]
  },
  {
   "cell_type": "markdown",
   "metadata": {},
   "source": [
    "## 15a. Reshape\n",
    "This method changes the shape of array without changing the data of array.\n",
    "\n",
    "The exact signature of reshape method is:\n",
    "```` python\n",
    "np.reshape(a, newshape, order='C')\n",
    "````\n",
    "\n",
    "where:\n",
    "\n",
    "**a** : is a numpy array.<br>\n",
    "**Newshape**: new shape of array. should be a tuple.<br>\n",
    "**order**(Optional): This specifies how the array is read for reshaping. It can have only three values {\"C\", \"F\", \"A\"}.<br>\n",
    "*C* specifies a C-like array indexing for read/write, and \"F\" means Fortran-like indexing for read/write. 'A' means to read / write the elements in Fortran-like index order if ``a`` is Fortran *contiguous* in memory, C-like order otherwise.\n",
    "\n",
    "In simple words. The *C* defines the element are populated row wise. While with \"F\", The elements are populated in columns wise. We will see that later with example.\n",
    "\n",
    "for example \n",
    "\n",
    "```` python\n",
    "LinearArray = np.arange(12)\n",
    "LinearArray.shape\n",
    "````\n",
    "\n",
    "output will be a 1D array.\n",
    "it contains 12 elements in single dimension. Say we need to change this into 2 dimensional array. we will use reshape function.\n",
    "\n",
    "\n",
    "if we want to change the shape of this we will use rehape function.\n",
    "\n",
    "```` python\n",
    "ReshapedArray=LinearArray.reshape(2,6)\n",
    "ReshapedArray.shape\n",
    "````\n",
    "\n",
    "Now the shape will be (2, 6)"
   ]
  },
  {
   "cell_type": "code",
   "execution_count": 125,
   "metadata": {},
   "outputs": [],
   "source": [
    "np.reshape?"
   ]
  },
  {
   "cell_type": "code",
   "execution_count": 128,
   "metadata": {},
   "outputs": [
    {
     "data": {
      "text/plain": [
       "(12,)"
      ]
     },
     "execution_count": 128,
     "metadata": {},
     "output_type": "execute_result"
    }
   ],
   "source": [
    "LinearArray = np.arange(12)\n",
    "LinearArray.shape"
   ]
  },
  {
   "cell_type": "code",
   "execution_count": 129,
   "metadata": {},
   "outputs": [
    {
     "data": {
      "text/plain": [
       "array([[ 0,  1,  2,  3,  4,  5],\n",
       "       [ 6,  7,  8,  9, 10, 11]])"
      ]
     },
     "execution_count": 129,
     "metadata": {},
     "output_type": "execute_result"
    }
   ],
   "source": [
    "ReshapedArray=np.reshape(LinearArray, (2,6))\n",
    "ReshapedArray"
   ]
  },
  {
   "cell_type": "code",
   "execution_count": 130,
   "metadata": {},
   "outputs": [
    {
     "data": {
      "text/plain": [
       "(2, 6)"
      ]
     },
     "execution_count": 130,
     "metadata": {},
     "output_type": "execute_result"
    }
   ],
   "source": [
    "ReshapedArray.shape"
   ]
  },
  {
   "cell_type": "markdown",
   "metadata": {},
   "source": [
    "As you is can be seen we haven't specified the third parameter and hence default \"C\" like order was used. and notice that now array is split into two half. The elements are first populated across the rows. \n",
    "<img src = \"npss\\np3.PNG\">\n",
    "Now let us see the output with Fortran-Like order.\n"
   ]
  },
  {
   "cell_type": "code",
   "execution_count": 131,
   "metadata": {},
   "outputs": [
    {
     "data": {
      "text/plain": [
       "array([[ 0,  2,  4,  6,  8, 10],\n",
       "       [ 1,  3,  5,  7,  9, 11]])"
      ]
     },
     "execution_count": 131,
     "metadata": {},
     "output_type": "execute_result"
    }
   ],
   "source": [
    "np.reshape(LinearArray, (2,6),order = \"F\")"
   ]
  },
  {
   "cell_type": "markdown",
   "metadata": {},
   "source": [
    "Now elements are first populated over the columns first.\n",
    "<img src =\"npss\\np4.PNG\">"
   ]
  },
  {
   "cell_type": "markdown",
   "metadata": {},
   "source": [
    "### Other syntax for reshape:\n",
    "\n",
    "Antoher syntax for reshape is as follow:\n",
    "\n",
    "```` python\n",
    "numpy.ndArray.reshape(NewShape)\n",
    "````\n",
    "It is in-place reshaping of an numpy array.\n",
    "\n",
    "here the parameter newshape doesn't have to be a tuple, but simply a new shape. for Example:\n"
   ]
  },
  {
   "cell_type": "code",
   "execution_count": 132,
   "metadata": {},
   "outputs": [
    {
     "data": {
      "text/plain": [
       "array([[[ 0,  1,  2],\n",
       "        [ 3,  4,  5]],\n",
       "\n",
       "       [[ 6,  7,  8],\n",
       "        [ 9, 10, 11]]])"
      ]
     },
     "execution_count": 132,
     "metadata": {},
     "output_type": "execute_result"
    }
   ],
   "source": [
    "LinearArray.reshape(2,2,3)"
   ]
  },
  {
   "cell_type": "markdown",
   "metadata": {},
   "source": [
    "##### Thing to take care:\n",
    "\n",
    "While using reshape, it must be kept in mind that reshape doesn't alter data of array. so the new shape must be given such that all element must be fill all position on every index in new shape, in other words both must have a same size. For example, consider that we have an array with a shape of (2, 6), it will have 12 elements *(2x6)* if we rshape it into (2, 4) an exception is thro+wn because the new array could only have 8 elements, but actual elements are 12."
   ]
  },
  {
   "cell_type": "code",
   "execution_count": 140,
   "metadata": {},
   "outputs": [
    {
     "data": {
      "text/plain": [
       "array([[4, 9, 6, 5, 7, 5],\n",
       "       [6, 8, 2, 8, 6, 7]])"
      ]
     },
     "execution_count": 140,
     "metadata": {},
     "output_type": "execute_result"
    }
   ],
   "source": [
    "Array2By6 = np.random.randint(2, high = 10, size = (2, 6))\n",
    "Array2By6"
   ]
  },
  {
   "cell_type": "code",
   "execution_count": 138,
   "metadata": {},
   "outputs": [
    {
     "ename": "ValueError",
     "evalue": "cannot reshape array of size 12 into shape (2,4)",
     "output_type": "error",
     "traceback": [
      "\u001b[1;31m---------------------------------------------------------------------------\u001b[0m",
      "\u001b[1;31mValueError\u001b[0m                                Traceback (most recent call last)",
      "\u001b[1;32m<ipython-input-138-d0ee078269bb>\u001b[0m in \u001b[0;36m<module>\u001b[1;34m\u001b[0m\n\u001b[1;32m----> 1\u001b[1;33m \u001b[0mArray2By6\u001b[0m\u001b[1;33m.\u001b[0m\u001b[0mreshape\u001b[0m\u001b[1;33m(\u001b[0m\u001b[1;36m2\u001b[0m\u001b[1;33m,\u001b[0m \u001b[1;36m4\u001b[0m\u001b[1;33m)\u001b[0m\u001b[1;33m\u001b[0m\u001b[1;33m\u001b[0m\u001b[0m\n\u001b[0m",
      "\u001b[1;31mValueError\u001b[0m: cannot reshape array of size 12 into shape (2,4)"
     ]
    }
   ],
   "source": [
    "Array2By6.reshape(2, 4)"
   ]
  },
  {
   "cell_type": "markdown",
   "metadata": {},
   "source": [
    "However, if I want to reshape is into (2,2,3) I would get no error as this shape have same size.\n"
   ]
  },
  {
   "cell_type": "code",
   "execution_count": 141,
   "metadata": {},
   "outputs": [
    {
     "data": {
      "text/plain": [
       "array([[[4, 9, 6],\n",
       "        [5, 7, 5]],\n",
       "\n",
       "       [[6, 8, 2],\n",
       "        [8, 6, 7]]])"
      ]
     },
     "execution_count": 141,
     "metadata": {},
     "output_type": "execute_result"
    }
   ],
   "source": [
    "Array2By6.reshape(2,2,3)"
   ]
  },
  {
   "cell_type": "markdown",
   "metadata": {},
   "source": [
    "## 15b. Resize\n",
    "\n"
   ]
  }
 ],
 "metadata": {
  "kernelspec": {
   "display_name": "Python 3",
   "language": "python",
   "name": "python3"
  },
  "language_info": {
   "codemirror_mode": {
    "name": "ipython",
    "version": 3
   },
   "file_extension": ".py",
   "mimetype": "text/x-python",
   "name": "python",
   "nbconvert_exporter": "python",
   "pygments_lexer": "ipython3",
   "version": "3.7.6"
  }
 },
 "nbformat": 4,
 "nbformat_minor": 4
}
